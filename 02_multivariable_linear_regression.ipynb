{
 "cells": [
  {
   "cell_type": "markdown",
   "metadata": {},
   "source": [
    "# Multivariable linear regression\n"
   ]
  },
  {
   "cell_type": "markdown",
   "metadata": {},
   "source": [
    "## 1) 필요한 모듈을 import 합니다"
   ]
  },
  {
   "cell_type": "code",
   "execution_count": 1,
   "metadata": {},
   "outputs": [],
   "source": [
    "import torch\n",
    "import torch.nn as nn\n",
    "import torch.nn.functional as F\n",
    "import torch.optim as optim"
   ]
  },
  {
   "cell_type": "markdown",
   "metadata": {},
   "source": [
    "## 2) 학습 데이터셋을 정의합니다"
   ]
  },
  {
   "cell_type": "code",
   "execution_count": 48,
   "metadata": {},
   "outputs": [],
   "source": [
    "x_train = torch.FloatTensor([[80, 85, 90], \n",
    "                            [50, 55, 60],\n",
    "                            [70, 75, 80]])\n",
    "y_train = torch.FloatTensor([[95], [65], [85]])"
   ]
  },
  {
   "cell_type": "markdown",
   "metadata": {},
   "source": [
    "## 3) 클래스로 모델을 구성합니다"
   ]
  },
  {
   "cell_type": "code",
   "execution_count": 54,
   "metadata": {},
   "outputs": [],
   "source": [
    "class MultivaribleModel(nn.Module):\n",
    "    def __init__(self):\n",
    "        super().__init__()\n",
    "        self.linear = nn.Linear(3, 1)\n",
    "        \n",
    "    def forward(self, x):\n",
    "        return self.linear(x)"
   ]
  },
  {
   "cell_type": "markdown",
   "metadata": {},
   "source": [
    "## 4) model과 optimizer를 정의합니다"
   ]
  },
  {
   "cell_type": "code",
   "execution_count": 55,
   "metadata": {},
   "outputs": [],
   "source": [
    "model = MultivaribleModel()\n",
    "optimizer = optim.SGD(model.parameters(), lr=1e-5)"
   ]
  },
  {
   "cell_type": "markdown",
   "metadata": {},
   "source": [
    "## 5) torch의 manual seed를 고정시킵니다"
   ]
  },
  {
   "cell_type": "code",
   "execution_count": 56,
   "metadata": {},
   "outputs": [
    {
     "data": {
      "text/plain": [
       "<torch._C.Generator at 0x1fa8662af90>"
      ]
     },
     "execution_count": 56,
     "metadata": {},
     "output_type": "execute_result"
    }
   ],
   "source": [
    "torch.manual_seed(1)"
   ]
  },
  {
   "cell_type": "markdown",
   "metadata": {},
   "source": [
    "## 6) for문을 돌면서 학습을 수행합니다"
   ]
  },
  {
   "cell_type": "code",
   "execution_count": 57,
   "metadata": {},
   "outputs": [
    {
     "name": "stdout",
     "output_type": "stream",
     "text": [
      " 5000번째 출력 >>> w: 0.51,0.51,0.51, b: 0.31, loss: 2.88\n",
      "10000번째 출력 >>> w: 0.37,0.37,0.37, b: 0.33, loss: 2.14\n",
      "15000번째 출력 >>> w: 0.25,0.25,0.25, b: 0.36, loss: 1.58\n",
      "20000번째 출력 >>> w: 0.15,0.15,0.15, b: 0.38, loss: 1.17\n",
      "25000번째 출력 >>> w: 0.06,0.06,0.06, b: 0.40, loss: 0.87\n",
      "30000번째 출력 >>> w: -0.02,-0.02,-0.02, b: 0.41, loss: 0.65\n",
      "35000번째 출력 >>> w: -0.09,-0.09,-0.09, b: 0.42, loss: 0.48\n",
      "40000번째 출력 >>> w: -0.14,-0.14,-0.14, b: 0.43, loss: 0.36\n",
      "45000번째 출력 >>> w: -0.19,-0.19,-0.19, b: 0.44, loss: 0.26\n",
      "50000번째 출력 >>> w: -0.24,-0.24,-0.24, b: 0.45, loss: 0.20\n"
     ]
    }
   ],
   "source": [
    "epochs = 50000\n",
    "\n",
    "for epoch in range(1, epochs+1):\n",
    "    prediction = model(x_train)\n",
    "    \n",
    "    loss = F.mse_loss(prediction, y_train)\n",
    "    \n",
    "    optimizer.zero_grad()\n",
    "    loss.backward()\n",
    "    optimizer.step()\n",
    "    \n",
    "    if epoch % 5000 == 0:\n",
    "        params = list(model.parameters())\n",
    "        w1 = params[0][0][0].item()\n",
    "        w2 = params[0][0][0].item()\n",
    "        w3 = params[0][0][0].item()\n",
    "        b = params[1].item()\n",
    "        \n",
    "        print('{:5d}번째 출력 >>> w: {:.2f},{:.2f},{:.2f}, b: {:.2f}, loss: {:.2f}'.format(epoch, w1, w2, w3, b, loss.item()))"
   ]
  },
  {
   "cell_type": "markdown",
   "metadata": {},
   "source": [
    "# Full code"
   ]
  },
  {
   "cell_type": "code",
   "execution_count": 81,
   "metadata": {},
   "outputs": [
    {
     "name": "stdout",
     "output_type": "stream",
     "text": [
      " 5000번째 출력 >>> w:0.08,0.08,0.08, b:-0.42,-0.02, loss:15.0614\n",
      "10000번째 출력 >>> w:-0.29,-0.29,-0.29, b:-0.39,0.02, loss:4.0969\n",
      "15000번째 출력 >>> w:-0.48,-0.48,-0.48, b:-0.37,0.04, loss:1.1145\n",
      "20000번째 출력 >>> w:-0.58,-0.58,-0.58, b:-0.37,0.05, loss:0.3032\n",
      "25000번째 출력 >>> w:-0.63,-0.63,-0.63, b:-0.36,0.05, loss:0.0826\n",
      "30000번째 출력 >>> w:-0.66,-0.66,-0.66, b:-0.36,0.06, loss:0.0225\n",
      "35000번째 출력 >>> w:-0.68,-0.68,-0.68, b:-0.36,0.06, loss:0.0061\n",
      "40000번째 출력 >>> w:-0.68,-0.68,-0.68, b:-0.36,0.06, loss:0.0017\n",
      "45000번째 출력 >>> w:-0.69,-0.69,-0.69, b:-0.36,0.06, loss:0.0005\n",
      "50000번째 출력 >>> w:-0.69,-0.69,-0.69, b:-0.36,0.06, loss:0.0001\n",
      "\n",
      "\n",
      "result >>>\n",
      "tensor([39.9860, 49.9820], grad_fn=<SelectBackward>)\n",
      "tensor([49.9976, 59.9969], grad_fn=<SelectBackward>)\n",
      "tensor([60.0092, 70.0118], grad_fn=<SelectBackward>)\n"
     ]
    }
   ],
   "source": [
    "import torch\n",
    "import torch.nn as nn\n",
    "import torch.nn.functional as F\n",
    "import torch.optim as optim\n",
    "\n",
    "x_train = torch.FloatTensor([[10, 20, 30],\n",
    "                            [20, 30, 40],\n",
    "                            [30, 40, 50]])\n",
    "y_train = torch.FloatTensor([[40, 50], [50, 60], [60, 70]])\n",
    "\n",
    "class MultivariableModel(nn.Module):\n",
    "    def __init__(self):\n",
    "        super().__init__()\n",
    "        self.linear = nn.Linear(3, 2)\n",
    "        \n",
    "    def forward(self, x):\n",
    "        return self.linear(x)\n",
    "    \n",
    "model = MultivariableModel()\n",
    "optimizer = optim.SGD(model.parameters(), lr=1e-5)\n",
    "\n",
    "epochs = 50000\n",
    "for epoch in range(1, epochs+1):\n",
    "    prediction = model(x_train)\n",
    "    \n",
    "    loss = F.mse_loss(prediction, y_train)\n",
    "    \n",
    "    optimizer.zero_grad()\n",
    "    loss.backward()\n",
    "    optimizer.step()\n",
    "    \n",
    "    if epoch % 5000 == 0:\n",
    "        params = list(model.parameters())\n",
    "        w1 = params[0][0][0].item()\n",
    "        w2 = params[0][0][0].item()\n",
    "        w3 = params[0][0][0].item()\n",
    "        b1= params[1][0].item()\n",
    "        b2 = params[1][1].item()\n",
    "        \n",
    "        print('{:5d}번째 출력 >>> w:{:.2f},{:.2f},{:.2f}, b:{:.2f},{:.2f}, loss:{:.4f}'.format(epoch, w1, w2, w3, b1, b2, loss.item()))\n",
    "        \n",
    "print('\\n')\n",
    "print('result >>>')\n",
    "prediction = model(x_train)\n",
    "result = list(prediction)\n",
    "for r in result:\n",
    "    print(r)"
   ]
  }
 ],
 "metadata": {
  "kernelspec": {
   "display_name": "Python 3",
   "language": "python",
   "name": "python3"
  },
  "language_info": {
   "codemirror_mode": {
    "name": "ipython",
    "version": 3
   },
   "file_extension": ".py",
   "mimetype": "text/x-python",
   "name": "python",
   "nbconvert_exporter": "python",
   "pygments_lexer": "ipython3",
   "version": "3.6.9"
  }
 },
 "nbformat": 4,
 "nbformat_minor": 2
}
