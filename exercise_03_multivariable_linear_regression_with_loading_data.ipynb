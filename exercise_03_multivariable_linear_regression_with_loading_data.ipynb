{
 "cells": [
  {
   "cell_type": "markdown",
   "metadata": {},
   "source": [
    "# Multivariable linear regression with loading data"
   ]
  },
  {
   "cell_type": "markdown",
   "metadata": {},
   "source": [
    "## 1) 가장 먼저 모듈을 불러와야겠죠?"
   ]
  },
  {
   "cell_type": "code",
   "execution_count": 15,
   "metadata": {},
   "outputs": [],
   "source": [
    "import torch\n",
    "import torch.nn as nn\n",
    "import torch.nn.functional as F\n",
    "import torch.optim as optim\n",
    "import numpy as np"
   ]
  },
  {
   "cell_type": "markdown",
   "metadata": {},
   "source": [
    "## 2) 이번에는 데이터파일을 불러와서 학습데이터셋을 지정할 겁니다"
   ]
  },
  {
   "cell_type": "code",
   "execution_count": 2,
   "metadata": {},
   "outputs": [
    {
     "data": {
      "text/plain": [
       "'C:\\\\myPyCode\\\\DeepLearning_PyTorch'"
      ]
     },
     "execution_count": 2,
     "metadata": {},
     "output_type": "execute_result"
    }
   ],
   "source": [
    "pwd"
   ]
  },
  {
   "cell_type": "code",
   "execution_count": 19,
   "metadata": {},
   "outputs": [],
   "source": [
    "data = np.loadtxt('data-01-test-score.csv', delimiter=',', dtype=np.float32)\n",
    "\n",
    "x = data[:, :-1]\n",
    "y = data[:, [-1]]\n",
    "\n",
    "x_train = torch.FloatTensor(x)\n",
    "y_train = torch.FloatTensor(y)"
   ]
  },
  {
   "cell_type": "markdown",
   "metadata": {},
   "source": [
    "## 3) 이전과 같은 방식으로 클래스로 모델을 구성합니다"
   ]
  },
  {
   "cell_type": "code",
   "execution_count": 32,
   "metadata": {},
   "outputs": [],
   "source": [
    "class MultivariableModel(nn.Module):\n",
    "    def __init__(self):\n",
    "        super().__init__()\n",
    "        self.linear = nn.Linear(3, 1)\n",
    "        \n",
    "    def forward(self, x):\n",
    "        return self.linear(x)"
   ]
  },
  {
   "cell_type": "markdown",
   "metadata": {},
   "source": [
    "## 4) 학습 전 model과 optimizer를 선언해줍니다"
   ]
  },
  {
   "cell_type": "code",
   "execution_count": 36,
   "metadata": {},
   "outputs": [],
   "source": [
    "model = MultivariableModel()\n",
    "optimizer = optim.SGD(model.parameters(), lr=1e-5)"
   ]
  },
  {
   "cell_type": "markdown",
   "metadata": {},
   "source": [
    "## 5) 재현성을 위해 manual seed를 고정시킵니다"
   ]
  },
  {
   "cell_type": "code",
   "execution_count": 37,
   "metadata": {},
   "outputs": [
    {
     "data": {
      "text/plain": [
       "<torch._C.Generator at 0x1b649b56eb0>"
      ]
     },
     "execution_count": 37,
     "metadata": {},
     "output_type": "execute_result"
    }
   ],
   "source": [
    "torch.manual_seed(1)"
   ]
  },
  {
   "cell_type": "markdown",
   "metadata": {},
   "source": [
    "## 6) 자, 이제 training을 시작해볼까요?"
   ]
  },
  {
   "cell_type": "code",
   "execution_count": 38,
   "metadata": {},
   "outputs": [
    {
     "name": "stdout",
     "output_type": "stream",
     "text": [
      " 5000번째 출력 >>> w:0.53,0.46,1.02, b:0.27, loss:6.7611\n",
      "10000번째 출력 >>> w:0.41,0.51,1.10, b:0.27, loss:6.1946\n",
      "15000번째 출력 >>> w:0.37,0.52,1.12, b:0.26, loss:6.1487\n",
      "20000번째 출력 >>> w:0.36,0.53,1.12, b:0.25, loss:6.1436\n",
      "25000번째 출력 >>> w:0.36,0.53,1.12, b:0.24, loss:6.1417\n",
      "30000번째 출력 >>> w:0.36,0.53,1.12, b:0.23, loss:6.1401\n",
      "35000번째 출력 >>> w:0.36,0.53,1.12, b:0.22, loss:6.1386\n",
      "40000번째 출력 >>> w:0.36,0.53,1.13, b:0.21, loss:6.1370\n",
      "45000번째 출력 >>> w:0.36,0.53,1.13, b:0.21, loss:6.1355\n",
      "50000번째 출력 >>> w:0.36,0.53,1.13, b:0.20, loss:6.1340\n"
     ]
    }
   ],
   "source": [
    "epochs = 50000\n",
    "for epoch in range(1, epochs+1):\n",
    "    prediction = model(x_train)\n",
    "    \n",
    "    loss = F.mse_loss(prediction, y_train)\n",
    "    \n",
    "    optimizer.zero_grad()\n",
    "    loss.backward()\n",
    "    optimizer.step()\n",
    "    \n",
    "    if epoch % 5000 == 0:\n",
    "        params = list(model.parameters())\n",
    "        w1 = params[0][0][0].item()\n",
    "        w2 = params[0][0][1].item()\n",
    "        w3 = params[0][0][2].item()\n",
    "        b = params[1].item()\n",
    "        \n",
    "        print('{:5d}번째 출력 >>> w:{:.2f},{:.2f},{:.2f}, b:{:.2f}, loss:{:.4f}'.format(epoch,w1,w2,w3,b,loss.item()))"
   ]
  },
  {
   "cell_type": "markdown",
   "metadata": {},
   "source": [
    "# Full code"
   ]
  },
  {
   "cell_type": "code",
   "execution_count": 57,
   "metadata": {},
   "outputs": [
    {
     "name": "stdout",
     "output_type": "stream",
     "text": [
      " 5000번째 출력 >>> weight:0.53,0.46,1.04, bias:-0.27, loss:6.6081\n",
      "10000번째 출력 >>> weight:0.40,0.51,1.11, bias:-0.27, loss:6.1005\n",
      "15000번째 출력 >>> weight:0.37,0.52,1.12, bias:-0.28, loss:6.0584\n",
      "20000번째 출력 >>> weight:0.36,0.53,1.13, bias:-0.29, loss:6.0538\n",
      "25000번째 출력 >>> weight:0.36,0.53,1.13, bias:-0.30, loss:6.0523\n",
      "30000번째 출력 >>> weight:0.36,0.53,1.13, bias:-0.31, loss:6.0511\n",
      "35000번째 출력 >>> weight:0.36,0.53,1.13, bias:-0.31, loss:6.0499\n",
      "40000번째 출력 >>> weight:0.36,0.53,1.13, bias:-0.32, loss:6.0487\n",
      "45000번째 출력 >>> weight:0.36,0.53,1.13, bias:-0.33, loss:6.0475\n",
      "50000번째 출력 >>> weight:0.36,0.53,1.13, bias:-0.34, loss:6.0463\n"
     ]
    }
   ],
   "source": [
    "import torch\n",
    "import torch.nn as nn\n",
    "import torch.nn.functional as F\n",
    "import torch.optim as optim\n",
    "import numpy as np\n",
    "\n",
    "data = np.loadtxt('data-01-test-score.csv', delimiter=',', dtype=np.float32)\n",
    "x = data[:, :-1]\n",
    "y = data[:, [-1]]\n",
    "x_train = torch.FloatTensor(x)\n",
    "y_train = torch.FloatTensor(y)\n",
    "\n",
    "class MultivarModel(nn.Module):\n",
    "    def __init__(self):\n",
    "        super().__init__()\n",
    "        self.linear = nn.Linear(3, 1)\n",
    "        \n",
    "    def forward(self, x):\n",
    "        return self.linear(x)\n",
    "    \n",
    "model = MultivarModel()\n",
    "optimizer = optim.SGD(model.parameters(), lr=1e-5)\n",
    "\n",
    "torch.manual_seed(1)\n",
    "\n",
    "epochs = 50000\n",
    "for epoch in range(1, epochs+1):\n",
    "    prediction = model(x_train)\n",
    "    \n",
    "    loss = F.mse_loss(prediction, y_train)\n",
    "    \n",
    "    optimizer.zero_grad()\n",
    "    loss.backward()\n",
    "    optimizer.step()\n",
    "    \n",
    "    if epoch % 5000 == 0:\n",
    "        params = list(model.parameters())\n",
    "        w1 = params[0][0][0].item()\n",
    "        w2 = params[0][0][1].item()\n",
    "        w3 = params[0][0][2].item()\n",
    "        b = params[1].item()\n",
    "        \n",
    "        print('{:5d}번째 출력 >>> weight:{:.2f},{:.2f},{:.2f}, bias:{:.2f}, loss:{:.4f}'.format(epoch,w1,w2,w3,b,loss.item()))"
   ]
  }
 ],
 "metadata": {
  "kernelspec": {
   "display_name": "Python 3",
   "language": "python",
   "name": "python3"
  },
  "language_info": {
   "codemirror_mode": {
    "name": "ipython",
    "version": 3
   },
   "file_extension": ".py",
   "mimetype": "text/x-python",
   "name": "python",
   "nbconvert_exporter": "python",
   "pygments_lexer": "ipython3",
   "version": "3.6.9"
  }
 },
 "nbformat": 4,
 "nbformat_minor": 2
}
