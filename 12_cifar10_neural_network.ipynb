{
 "cells": [
  {
   "cell_type": "markdown",
   "metadata": {},
   "source": [
    "# Cifar10 neural network"
   ]
  },
  {
   "cell_type": "markdown",
   "metadata": {},
   "source": [
    "## 1) GPU의 정보를 확인합니다"
   ]
  },
  {
   "cell_type": "code",
   "execution_count": 1,
   "metadata": {
    "colab": {
     "base_uri": "https://localhost:8080/",
     "height": 335
    },
    "colab_type": "code",
    "id": "YzhpcTMxjXyJ",
    "outputId": "93231dab-1e9b-47aa-bac7-75812842d10a"
   },
   "outputs": [
    {
     "name": "stdout",
     "output_type": "stream",
     "text": [
      "Tue Jan 21 10:02:24 2020       \n",
      "+-----------------------------------------------------------------------------+\n",
      "| NVIDIA-SMI 440.44       Driver Version: 418.67       CUDA Version: 10.1     |\n",
      "|-------------------------------+----------------------+----------------------+\n",
      "| GPU  Name        Persistence-M| Bus-Id        Disp.A | Volatile Uncorr. ECC |\n",
      "| Fan  Temp  Perf  Pwr:Usage/Cap|         Memory-Usage | GPU-Util  Compute M. |\n",
      "|===============================+======================+======================|\n",
      "|   0  Tesla P100-PCIE...  Off  | 00000000:00:04.0 Off |                    0 |\n",
      "| N/A   37C    P0    26W / 250W |      0MiB / 16280MiB |      0%      Default |\n",
      "+-------------------------------+----------------------+----------------------+\n",
      "                                                                               \n",
      "+-----------------------------------------------------------------------------+\n",
      "| Processes:                                                       GPU Memory |\n",
      "|  GPU       PID   Type   Process name                             Usage      |\n",
      "|=============================================================================|\n",
      "|  No running processes found                                                 |\n",
      "+-----------------------------------------------------------------------------+\n"
     ]
    }
   ],
   "source": [
    "!nvidia-smi"
   ]
  },
  {
   "cell_type": "markdown",
   "metadata": {},
   "source": [
    "## 2) 필요한 모듈을 import 합니다"
   ]
  },
  {
   "cell_type": "code",
   "execution_count": 2,
   "metadata": {
    "colab": {},
    "colab_type": "code",
    "id": "_7aXtDaRf_Xn"
   },
   "outputs": [],
   "source": [
    "import torch\n",
    "import torch.nn as nn\n",
    "import torch.optim as optim\n",
    "import torchvision.datasets as dsets\n",
    "import torchvision.transforms as transforms\n",
    "import random\n",
    "import matplotlib.pyplot as plt"
   ]
  },
  {
   "cell_type": "markdown",
   "metadata": {},
   "source": [
    "## 3) 재현성을 위해 seed를 고정시킵니다"
   ]
  },
  {
   "cell_type": "code",
   "execution_count": 3,
   "metadata": {
    "colab": {
     "base_uri": "https://localhost:8080/",
     "height": 36
    },
    "colab_type": "code",
    "id": "pHmrA0yCf_TE",
    "outputId": "fffb7774-3416-4d0f-f28f-c4f5cc3b4947"
   },
   "outputs": [
    {
     "data": {
      "text/plain": [
       "<torch._C.Generator at 0x249d679c450>"
      ]
     },
     "execution_count": 3,
     "metadata": {},
     "output_type": "execute_result"
    }
   ],
   "source": [
    "random.seed(1)\n",
    "torch.manual_seed(1)"
   ]
  },
  {
   "cell_type": "markdown",
   "metadata": {},
   "source": [
    "## 4) hyper parameter를 설정합니다"
   ]
  },
  {
   "cell_type": "code",
   "execution_count": 4,
   "metadata": {
    "colab": {},
    "colab_type": "code",
    "id": "7w2M6w2ef_Q6"
   },
   "outputs": [],
   "source": [
    "batch_size = 100\n",
    "epochs = 15\n",
    "learning_rate = 1e-5\n",
    "drop_prop = 0.3"
   ]
  },
  {
   "cell_type": "markdown",
   "metadata": {},
   "source": [
    "## 5) train, test set을 불러옵니다"
   ]
  },
  {
   "cell_type": "code",
   "execution_count": 6,
   "metadata": {
    "colab": {
     "base_uri": "https://localhost:8080/",
     "height": 55
    },
    "colab_type": "code",
    "id": "p5Tecv9tf_Ob",
    "outputId": "a5ac9377-d080-41d1-b39b-cfc6b60f0c99"
   },
   "outputs": [
    {
     "name": "stdout",
     "output_type": "stream",
     "text": [
      "Downloading https://www.cs.toronto.edu/~kriz/cifar-10-python.tar.gz to cifar10\\cifar-10-python.tar.gz\n"
     ]
    },
    {
     "name": "stderr",
     "output_type": "stream",
     "text": [
      "100.0%"
     ]
    },
    {
     "name": "stdout",
     "output_type": "stream",
     "text": [
      "Extracting cifar10\\cifar-10-python.tar.gz to cifar10\n",
      "Files already downloaded and verified\n"
     ]
    }
   ],
   "source": [
    "cifar10_train = dsets.CIFAR10(root='cifar10',\n",
    "                              train=True,\n",
    "                              transform=transforms.ToTensor(),\n",
    "                              download=True)\n",
    "cifar10_test = dsets.CIFAR10(root='cifar10',\n",
    "                             train=False,\n",
    "                             transform=transforms.ToTensor(),\n",
    "                             download=True)"
   ]
  },
  {
   "cell_type": "markdown",
   "metadata": {},
   "source": [
    "## 6) batch size에 맞춰서 train set을 data loader에 넣어줍니다"
   ]
  },
  {
   "cell_type": "code",
   "execution_count": 0,
   "metadata": {
    "colab": {},
    "colab_type": "code",
    "id": "57G_TvOJf_M-"
   },
   "outputs": [],
   "source": [
    "data_loader = torch.utils.data.DataLoader(dataset=cifar10_train,\n",
    "                                          batch_size=batch_size,\n",
    "                                          shuffle=True,\n",
    "                                          drop_last=True)"
   ]
  },
  {
   "cell_type": "markdown",
   "metadata": {},
   "source": [
    "## 7) 학습 모델의 architecture를 구성합니다"
   ]
  },
  {
   "cell_type": "code",
   "execution_count": 0,
   "metadata": {
    "colab": {},
    "colab_type": "code",
    "id": "SeAkN8XJf_Ke"
   },
   "outputs": [],
   "source": [
    "class LinearModel(nn.Module):\n",
    "    def __init__(self):\n",
    "        super().__init__()\n",
    "        self.layer1 = nn.Sequential(\n",
    "            nn.Linear(3*32*32, 512, bias=True),\n",
    "            nn.BatchNorm1d(512),\n",
    "            nn.ReLU(),\n",
    "            nn.Dropout(p=drop_prop))\n",
    "        \n",
    "        self.layer2 = nn.Sequential(\n",
    "            nn.Linear(512, 512, bias=True),\n",
    "            nn.BatchNorm1d(512),\n",
    "            nn.ReLU(),\n",
    "            nn.Dropout(p=drop_prop))\n",
    "        \n",
    "        self.layer3 = nn.Sequential(\n",
    "            nn.Linear(512, 512, bias=True),\n",
    "            nn.BatchNorm1d(512),\n",
    "            nn.ReLU(),\n",
    "            nn.Dropout(p=drop_prop))\n",
    "        \n",
    "        self.layer4 = nn.Sequential(\n",
    "            nn.Linear(512, 512, bias=True),\n",
    "            nn.BatchNorm1d(512),\n",
    "            nn.ReLU(),\n",
    "            nn.Dropout(p=drop_prop))\n",
    "        \n",
    "        self.layer5 = nn.Sequential(\n",
    "            nn.Linear(512, 10, bias=True))\n",
    "        \n",
    "        nn.init.xavier_uniform_(self.layer1[0].weight)\n",
    "        nn.init.xavier_uniform_(self.layer2[0].weight)\n",
    "        nn.init.xavier_uniform_(self.layer3[0].weight)\n",
    "        nn.init.xavier_uniform_(self.layer4[0].weight)\n",
    "\n",
    "    def forward(self, x):\n",
    "        out = self.layer1(x)\n",
    "        out = self.layer2(out)\n",
    "        out = self.layer3(out)\n",
    "        out = self.layer4(out)\n",
    "        out = self.layer5(out)\n",
    "        \n",
    "        return out"
   ]
  },
  {
   "cell_type": "markdown",
   "metadata": {},
   "source": [
    "## 8) 모델 정보를 출력해봅니다"
   ]
  },
  {
   "cell_type": "code",
   "execution_count": 136,
   "metadata": {
    "colab": {
     "base_uri": "https://localhost:8080/",
     "height": 559
    },
    "colab_type": "code",
    "id": "VdvFswhupYlP",
    "outputId": "28213310-0bfc-48dc-864e-e36aea380437"
   },
   "outputs": [
    {
     "name": "stdout",
     "output_type": "stream",
     "text": [
      "LinearModel(\n",
      "  (layer1): Sequential(\n",
      "    (0): Linear(in_features=3072, out_features=512, bias=True)\n",
      "    (1): BatchNorm1d(512, eps=1e-05, momentum=0.1, affine=True, track_running_stats=True)\n",
      "    (2): ReLU()\n",
      "    (3): Dropout(p=0.3, inplace=False)\n",
      "  )\n",
      "  (layer2): Sequential(\n",
      "    (0): Linear(in_features=512, out_features=512, bias=True)\n",
      "    (1): BatchNorm1d(512, eps=1e-05, momentum=0.1, affine=True, track_running_stats=True)\n",
      "    (2): ReLU()\n",
      "    (3): Dropout(p=0.3, inplace=False)\n",
      "  )\n",
      "  (layer3): Sequential(\n",
      "    (0): Linear(in_features=512, out_features=512, bias=True)\n",
      "    (1): BatchNorm1d(512, eps=1e-05, momentum=0.1, affine=True, track_running_stats=True)\n",
      "    (2): ReLU()\n",
      "    (3): Dropout(p=0.3, inplace=False)\n",
      "  )\n",
      "  (layer4): Sequential(\n",
      "    (0): Linear(in_features=512, out_features=512, bias=True)\n",
      "    (1): BatchNorm1d(512, eps=1e-05, momentum=0.1, affine=True, track_running_stats=True)\n",
      "    (2): ReLU()\n",
      "    (3): Dropout(p=0.3, inplace=False)\n",
      "  )\n",
      "  (layer5): Sequential(\n",
      "    (0): Linear(in_features=512, out_features=10, bias=True)\n",
      "  )\n",
      ")\n"
     ]
    }
   ],
   "source": [
    "model = LinearModel()\n",
    "print(model)"
   ]
  },
  {
   "cell_type": "markdown",
   "metadata": {},
   "source": [
    "## 9) 임의의 텐서를 모델에 넣고 테스트를 수행합니다"
   ]
  },
  {
   "cell_type": "code",
   "execution_count": 137,
   "metadata": {
    "colab": {
     "base_uri": "https://localhost:8080/",
     "height": 36
    },
    "colab_type": "code",
    "id": "MYlZ9bNcq4W7",
    "outputId": "fd312858-0288-44ae-d925-be3a2d1a0ad0"
   },
   "outputs": [
    {
     "data": {
      "text/plain": [
       "torch.Size([10, 10])"
      ]
     },
     "execution_count": 137,
     "metadata": {
      "tags": []
     },
     "output_type": "execute_result"
    }
   ],
   "source": [
    "value = torch.FloatTensor(10, 3072)\n",
    "model(value).shape"
   ]
  },
  {
   "cell_type": "markdown",
   "metadata": {},
   "source": [
    "## 10) training에 앞서 loss function과 optimizer를 생성합니다"
   ]
  },
  {
   "cell_type": "code",
   "execution_count": 0,
   "metadata": {
    "colab": {},
    "colab_type": "code",
    "id": "VlV3peSVf_IL"
   },
   "outputs": [],
   "source": [
    "loss_function = nn.CrossEntropyLoss()\n",
    "optimizer = optim.Adam(model.parameters(), lr=learning_rate)"
   ]
  },
  {
   "cell_type": "markdown",
   "metadata": {},
   "source": [
    "## 11) 본격적으로 epoch를 돌며 training을 시작합니다"
   ]
  },
  {
   "cell_type": "code",
   "execution_count": 139,
   "metadata": {
    "colab": {
     "base_uri": "https://localhost:8080/",
     "height": 316
    },
    "colab_type": "code",
    "id": "_REWpbedxJDr",
    "outputId": "79a95a72-b71a-454b-c5e6-a00dfce17e1a"
   },
   "outputs": [
    {
     "name": "stdout",
     "output_type": "stream",
     "text": [
      "[epoch:   1/15] loss: 2.248082\n",
      "[epoch:   2/15] loss: 2.059156\n",
      "[epoch:   3/15] loss: 1.953586\n",
      "[epoch:   4/15] loss: 1.880855\n",
      "[epoch:   5/15] loss: 1.832420\n",
      "[epoch:   6/15] loss: 1.791114\n",
      "[epoch:   7/15] loss: 1.755064\n",
      "[epoch:   8/15] loss: 1.723019\n",
      "[epoch:   9/15] loss: 1.698962\n",
      "[epoch:  10/15] loss: 1.673894\n",
      "[epoch:  11/15] loss: 1.652895\n",
      "[epoch:  12/15] loss: 1.636065\n",
      "[epoch:  13/15] loss: 1.618863\n",
      "[epoch:  14/15] loss: 1.600850\n",
      "[epoch:  15/15] loss: 1.588838\n",
      "Learning finished\n"
     ]
    }
   ],
   "source": [
    "model.train()\n",
    "for epoch in range(1, epochs+1):\n",
    "    avg_loss = 0\n",
    "    total_batch = len(data_loader)\n",
    "\n",
    "    for x_train, y_train in data_loader:\n",
    "        x_train = x_train.view(-1, 3*32*32).float()\n",
    "\n",
    "        prediction = model(x_train)\n",
    "        \n",
    "        loss = loss_function(prediction, y_train)\n",
    "        \n",
    "        optimizer.zero_grad()\n",
    "        loss.backward()\n",
    "        optimizer.step()\n",
    "\n",
    "        avg_loss += loss / total_batch\n",
    "    \n",
    "    print('[epoch: {:3d}/{}] loss: {:.6f}'.format(epoch, epochs, avg_loss))\n",
    "print('Learning finished')"
   ]
  },
  {
   "cell_type": "markdown",
   "metadata": {},
   "source": [
    "## 12) 학습된 모델을 test 합니다"
   ]
  },
  {
   "cell_type": "code",
   "execution_count": 159,
   "metadata": {
    "colab": {
     "base_uri": "https://localhost:8080/",
     "height": 322
    },
    "colab_type": "code",
    "id": "xYsRF_Z0zo0m",
    "outputId": "840d3d39-29ba-49a1-9f4c-6288f5e11b91"
   },
   "outputs": [
    {
     "name": "stdout",
     "output_type": "stream",
     "text": [
      "accuracy:  0.10000000149011612\n",
      "Label: 9, truck\n",
      "Prediction: 2, bird\n"
     ]
    },
    {
     "data": {
      "image/png": "[encoded data removed]",
      "text/plain": [
       "<Figure size 432x288 with 1 Axes>"
      ]
     },
     "metadata": {
      "tags": []
     },
     "output_type": "display_data"
    }
   ],
   "source": [
    "with torch.no_grad():\n",
    "    model.eval()\n",
    "    x_test = torch.FloatTensor(cifar10_test.data).view(len(cifar10_test), 3*32*32)\n",
    "    y_test = torch.LongTensor(cifar10_test.targets)\n",
    "\n",
    "    prediction = model(x_test)\n",
    "    correct = torch.argmax(prediction, 1) == y_test\n",
    "    accuracy = correct.float().mean()\n",
    "    print('accuracy: ', accuracy.item())\n",
    "\n",
    "    r = random.randint(0, len(cifar10_test)-1)\n",
    "    x_test_r = torch.FloatTensor(cifar10_test.data[r]).view(1, 3*32*32)\n",
    "    y_test_r = torch.LongTensor(y_test)[r]\n",
    "    prediction_r = model(x_test_r)\n",
    "    predic_num = torch.argmax(prediction_r, 1).item()\n",
    "    labels = cifar10_test.classes\n",
    "\n",
    "    print('Label: {}, {}'.format(y_test_r.item(), labels[y_test_r.item()]))\n",
    "    print('Prediction: {}, {}'.format(predic_num, labels[predic_num]))\n",
    "\n",
    "    plt.imshow(cifar10_test.data[r])\n",
    "    plt.show()"
   ]
  },
  {
   "cell_type": "markdown",
   "metadata": {
    "colab_type": "text",
    "id": "GpIL_6WkFGX4"
   },
   "source": [
    "# Full code"
   ]
  },
  {
   "cell_type": "code",
   "execution_count": 173,
   "metadata": {
    "colab": {
     "base_uri": "https://localhost:8080/",
     "height": 316
    },
    "colab_type": "code",
    "id": "iFYAl3b3FFSs",
    "outputId": "42fb0b39-14de-4445-fe7b-d5e7cbd6e047"
   },
   "outputs": [
    {
     "name": "stdout",
     "output_type": "stream",
     "text": [
      "[epoch:  1/15] loss: 1.876675\n",
      "[epoch:  2/15] loss: 1.666924\n",
      "[epoch:  3/15] loss: 1.583653\n",
      "[epoch:  4/15] loss: 1.523298\n",
      "[epoch:  5/15] loss: 1.474545\n",
      "[epoch:  6/15] loss: 1.438906\n",
      "[epoch:  7/15] loss: 1.398982\n",
      "[epoch:  8/15] loss: 1.365866\n",
      "[epoch:  9/15] loss: 1.333320\n",
      "[epoch: 10/15] loss: 1.300592\n",
      "[epoch: 11/15] loss: 1.274408\n",
      "[epoch: 12/15] loss: 1.249824\n",
      "[epoch: 13/15] loss: 1.229460\n",
      "[epoch: 14/15] loss: 1.203299\n",
      "[epoch: 15/15] loss: 1.185990\n",
      "learning_finished\n"
     ]
    }
   ],
   "source": [
    "import torch\n",
    "import torch.nn as nn\n",
    "import torch.optim as optim\n",
    "import torchvision.datasets as dsets\n",
    "import torchvision.transforms as tranforms\n",
    "import random\n",
    "import matplotlib.pyplot as plt\n",
    "\n",
    "random.seed(1)\n",
    "torch.manual_seed(1)\n",
    "\n",
    "batch_size = 100\n",
    "epochs = 15\n",
    "learning_rate = 1e-4\n",
    "\n",
    "cifar10_train = dsets.CIFAR10(root='cifar10',\n",
    "                              train=True,\n",
    "                              transform=transforms.ToTensor(),\n",
    "                              download=False)\n",
    "cifar10_test = dsets.CIFAR10(root='cifar10',\n",
    "                             train=False,\n",
    "                             transform=transforms.ToTensor(),\n",
    "                             download=False)\n",
    "\n",
    "data_loader = torch.utils.data.DataLoader(dataset=cifar10_train,\n",
    "                                          batch_size=batch_size,\n",
    "                                          shuffle=True,\n",
    "                                          drop_last=True)\n",
    "\n",
    "class LinearModel(nn.Module):\n",
    "    def __init__(self):\n",
    "        super().__init__()\n",
    "\n",
    "        self.layer1 = nn.Sequential(\n",
    "            nn.Linear(3*32*32, 32*32),\n",
    "            nn.ReLU())\n",
    "        \n",
    "        self.layer2 = nn.Sequential(\n",
    "            nn.Linear(32*32, 32*32),\n",
    "            nn.ReLU())\n",
    "        \n",
    "        self.layer3 = nn.Sequential(\n",
    "            nn.Linear(32*32, 10))\n",
    "        \n",
    "    def forward(self, x):\n",
    "        out = self.layer1(x)\n",
    "        out = self.layer2(out)\n",
    "        out = self.layer3(out)\n",
    "        \n",
    "        return out\n",
    "\n",
    "model = LinearModel()\n",
    "# value = torch.Tensor(10, 3*32*32)\n",
    "# model(value).shape\n",
    "\n",
    "loss_function = nn.CrossEntropyLoss()\n",
    "optimizer = optim.Adam(model.parameters(), lr=learning_rate)\n",
    "\n",
    "model.train()\n",
    "for epoch in range(1, epochs+1):\n",
    "    avg_loss = 0\n",
    "    total_batch = len(data_loader)\n",
    "\n",
    "    for x_train, y_train in data_loader:\n",
    "        x_train = x_train.view(batch_size, 3*32*32).float()\n",
    "\n",
    "        prediction = model(x_train)\n",
    "\n",
    "        loss = loss_function(prediction, y_train)\n",
    "\n",
    "        optimizer.zero_grad()\n",
    "        loss.backward()\n",
    "        optimizer.step()\n",
    "\n",
    "        avg_loss += loss / total_batch\n",
    "\n",
    "    print('[epoch: {:2d}/{}] loss: {:.6f}'.format(epoch, epochs, avg_loss))\n",
    "\n",
    "print('learning_finished')"
   ]
  },
  {
   "cell_type": "code",
   "execution_count": 190,
   "metadata": {
    "colab": {
     "base_uri": "https://localhost:8080/",
     "height": 322
    },
    "colab_type": "code",
    "id": "nrFWoXlnFFOt",
    "outputId": "6a0cfe1a-74c3-4989-847c-bfd28c8a98cd"
   },
   "outputs": [
    {
     "name": "stdout",
     "output_type": "stream",
     "text": [
      "accuracy:  0.10350000113248825\n",
      "Label: 5, dog\n",
      "Prediction: 0, airplane\n"
     ]
    },
    {
     "data": {
      "image/png": "[encoded data removed]",
      "text/plain": [
       "<Figure size 432x288 with 1 Axes>"
      ]
     },
     "metadata": {
      "tags": []
     },
     "output_type": "display_data"
    }
   ],
   "source": [
    "model.eval()\n",
    "with torch.no_grad():\n",
    "    x_test = torch.FloatTensor(cifar10_test.data).view(len(cifar10_test), 3*32*32)\n",
    "    y_test = torch.LongTensor(cifar10_test.targets)\n",
    "\n",
    "    prediction = model(x_test)\n",
    "    correct = torch.argmax(prediction, 1) == y_test\n",
    "    accuracy = correct.float().mean()\n",
    "    print('accuracy: ', accuracy.item())\n",
    "\n",
    "    r = random.randint(0, len(cifar10_test)-1)\n",
    "    x_test_r = torch.FloatTensor(cifar10_test.data[r]).view(3*32*32)\n",
    "    y_test_r = y_test[r]\n",
    "    prediction_r = model(x_test_r)\n",
    "\n",
    "    classes = cifar10_test.classes\n",
    "\n",
    "    print('Label: {}, {}'.format(y_test_r.item(), classes[y_test_r.item()]))\n",
    "    print('Prediction: {}, {}'.format(torch.argmax(prediction_r).item(), classes[torch.argmax(prediction_r).item()]))\n",
    "\n",
    "    plt.imshow(cifar10_test.data[r])\n",
    "    plt.show()"
   ]
  }
 ],
 "metadata": {
  "accelerator": "GPU",
  "colab": {
   "collapsed_sections": [],
   "machine_shape": "hm",
   "name": "cifar10_neural_network.ipynb",
   "provenance": []
  },
  "kernelspec": {
   "display_name": "Python 3",
   "language": "python",
   "name": "python3"
  },
  "language_info": {
   "codemirror_mode": {
    "name": "ipython",
    "version": 3
   },
   "file_extension": ".py",
   "mimetype": "text/x-python",
   "name": "python",
   "nbconvert_exporter": "python",
   "pygments_lexer": "ipython3",
   "version": "3.6.9"
  }
 },
 "nbformat": 4,
 "nbformat_minor": 1
}
