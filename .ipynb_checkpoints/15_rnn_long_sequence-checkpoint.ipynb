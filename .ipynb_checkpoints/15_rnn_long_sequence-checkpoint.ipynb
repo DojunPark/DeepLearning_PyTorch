{
 "cells": [
  {
   "cell_type": "markdown",
   "metadata": {},
   "source": [
    "# RNN - long sentence"
   ]
  },
  {
   "cell_type": "markdown",
   "metadata": {},
   "source": [
    "## 1) 필요한 모듈을 import 합니다"
   ]
  },
  {
   "cell_type": "code",
   "execution_count": 3,
   "metadata": {},
   "outputs": [],
   "source": [
    "import torch\n",
    "import torch.nn as nn\n",
    "import torch.optim as optim\n",
    "import numpy as np"
   ]
  },
  {
   "cell_type": "markdown",
   "metadata": {},
   "source": [
    "## 2) maunal seed를 고정시킵니다"
   ]
  },
  {
   "cell_type": "code",
   "execution_count": 4,
   "metadata": {},
   "outputs": [
    {
     "data": {
      "text/plain": [
       "<torch._C.Generator at 0x229e2112770>"
      ]
     },
     "execution_count": 4,
     "metadata": {},
     "output_type": "execute_result"
    }
   ],
   "source": [
    "torch.manual_seed(1)"
   ]
  },
  {
   "cell_type": "markdown",
   "metadata": {},
   "source": [
    "## 3) 학습 문장을 입력합니다"
   ]
  },
  {
   "cell_type": "code",
   "execution_count": 5,
   "metadata": {},
   "outputs": [],
   "source": [
    "sent = (\"This story is a very contemporary one about the gap between rich and poor. And essentially, \"\n",
    "        \"it's about capitalism. And I think it's undeniable that the heart of capitalism is the U.S. \"\n",
    "        \"And so, I think it's been very gratifying to see the strong reaction here.\")"
   ]
  },
  {
   "cell_type": "code",
   "execution_count": 6,
   "metadata": {},
   "outputs": [
    {
     "data": {
      "text/plain": [
       "\"This story is a very contemporary one about the gap between rich and poor. And essentially, it's about capitalism. And I think it's undeniable that the heart of capitalism is the U.S. And so, I think it's been very gratifying to see the strong reaction here.\""
      ]
     },
     "execution_count": 6,
     "metadata": {},
     "output_type": "execute_result"
    }
   ],
   "source": [
    "sent"
   ]
  },
  {
   "cell_type": "markdown",
   "metadata": {},
   "source": [
    "## 4) 문자 셋과 딕셔너리를 생성합니다"
   ]
  },
  {
   "cell_type": "code",
   "execution_count": 7,
   "metadata": {},
   "outputs": [],
   "source": [
    "set_char = list(set(sent))\n",
    "dic_char = {c : i for i, c in enumerate(set_char)}"
   ]
  },
  {
   "cell_type": "code",
   "execution_count": 8,
   "metadata": {},
   "outputs": [
    {
     "name": "stdout",
     "output_type": "stream",
     "text": [
      "{'p': 0, 'h': 1, 't': 2, ' ': 3, 'f': 4, 'm': 5, 'v': 6, 'u': 7, 'i': 8, 'y': 9, 's': 10, 'U': 11, 'T': 12, ',': 13, 'A': 14, \"'\": 15, 'S': 16, 'I': 17, '.': 18, 'd': 19, 'n': 20, 'g': 21, 'k': 22, 'c': 23, 'a': 24, 'r': 25, 'b': 26, 'o': 27, 'w': 28, 'e': 29, 'l': 30}\n"
     ]
    }
   ],
   "source": [
    "print(dic_char)"
   ]
  },
  {
   "cell_type": "markdown",
   "metadata": {},
   "source": [
    "## 5) hyper parameter를 지정합니다"
   ]
  },
  {
   "cell_type": "code",
   "execution_count": 9,
   "metadata": {},
   "outputs": [],
   "source": [
    "dic_size = len(dic_char)\n",
    "hidden_size = len(dic_char)\n",
    "seq_length = 10\n",
    "learning_rate = 1e-3\n",
    "epochs= 1000"
   ]
  },
  {
   "cell_type": "markdown",
   "metadata": {},
   "source": [
    "## 6) data setting"
   ]
  },
  {
   "cell_type": "code",
   "execution_count": 10,
   "metadata": {},
   "outputs": [
    {
     "name": "stdout",
     "output_type": "stream",
     "text": [
      "0 This story -> his story \n",
      "1 his story  -> is story i\n",
      "2 is story i -> s story is\n",
      "3 s story is ->  story is \n",
      "4  story is  -> story is a\n",
      "5 story is a -> tory is a \n",
      "6 tory is a  -> ory is a v\n",
      "7 ory is a v -> ry is a ve\n",
      "8 ry is a ve -> y is a ver\n",
      "9 y is a ver ->  is a very\n",
      "10  is a very -> is a very \n",
      "11 is a very  -> s a very c\n",
      "12 s a very c ->  a very co\n",
      "13  a very co -> a very con\n",
      "14 a very con ->  very cont\n",
      "15  very cont -> very conte\n",
      "16 very conte -> ery contem\n",
      "17 ery contem -> ry contemp\n",
      "18 ry contemp -> y contempo\n",
      "19 y contempo ->  contempor\n",
      "20  contempor -> contempora\n",
      "21 contempora -> ontemporar\n",
      "22 ontemporar -> ntemporary\n",
      "23 ntemporary -> temporary \n",
      "24 temporary  -> emporary o\n",
      "25 emporary o -> mporary on\n",
      "26 mporary on -> porary one\n",
      "27 porary one -> orary one \n",
      "28 orary one  -> rary one a\n",
      "29 rary one a -> ary one ab\n",
      "30 ary one ab -> ry one abo\n",
      "31 ry one abo -> y one abou\n",
      "32 y one abou ->  one about\n",
      "33  one about -> one about \n",
      "34 one about  -> ne about t\n",
      "35 ne about t -> e about th\n",
      "36 e about th ->  about the\n",
      "37  about the -> about the \n",
      "38 about the  -> bout the g\n",
      "39 bout the g -> out the ga\n",
      "40 out the ga -> ut the gap\n",
      "41 ut the gap -> t the gap \n",
      "42 t the gap  ->  the gap b\n",
      "43  the gap b -> the gap be\n",
      "44 the gap be -> he gap bet\n",
      "45 he gap bet -> e gap betw\n",
      "46 e gap betw ->  gap betwe\n",
      "47  gap betwe -> gap betwee\n",
      "48 gap betwee -> ap between\n",
      "49 ap between -> p between \n",
      "50 p between  ->  between r\n",
      "51  between r -> between ri\n",
      "52 between ri -> etween ric\n",
      "53 etween ric -> tween rich\n",
      "54 tween rich -> ween rich \n",
      "55 ween rich  -> een rich a\n",
      "56 een rich a -> en rich an\n",
      "57 en rich an -> n rich and\n",
      "58 n rich and ->  rich and \n",
      "59  rich and  -> rich and p\n",
      "60 rich and p -> ich and po\n",
      "61 ich and po -> ch and poo\n",
      "62 ch and poo -> h and poor\n",
      "63 h and poor ->  and poor.\n",
      "64  and poor. -> and poor. \n",
      "65 and poor.  -> nd poor. A\n",
      "66 nd poor. A -> d poor. An\n",
      "67 d poor. An ->  poor. And\n",
      "68  poor. And -> poor. And \n",
      "69 poor. And  -> oor. And e\n",
      "70 oor. And e -> or. And es\n",
      "71 or. And es -> r. And ess\n",
      "72 r. And ess -> . And esse\n",
      "73 . And esse ->  And essen\n",
      "74  And essen -> And essent\n",
      "75 And essent -> nd essenti\n",
      "76 nd essenti -> d essentia\n",
      "77 d essentia ->  essential\n",
      "78  essential -> essentiall\n",
      "79 essentiall -> ssentially\n",
      "80 ssentially -> sentially,\n",
      "81 sentially, -> entially, \n",
      "82 entially,  -> ntially, i\n",
      "83 ntially, i -> tially, it\n",
      "84 tially, it -> ially, it'\n",
      "85 ially, it' -> ally, it's\n",
      "86 ally, it's -> lly, it's \n",
      "87 lly, it's  -> ly, it's a\n",
      "88 ly, it's a -> y, it's ab\n",
      "89 y, it's ab -> , it's abo\n",
      "90 , it's abo ->  it's abou\n",
      "91  it's abou -> it's about\n",
      "92 it's about -> t's about \n",
      "93 t's about  -> 's about c\n",
      "94 's about c -> s about ca\n",
      "95 s about ca ->  about cap\n",
      "96  about cap -> about capi\n",
      "97 about capi -> bout capit\n",
      "98 bout capit -> out capita\n",
      "99 out capita -> ut capital\n",
      "100 ut capital -> t capitali\n",
      "101 t capitali ->  capitalis\n",
      "102  capitalis -> capitalism\n",
      "103 capitalism -> apitalism.\n",
      "104 apitalism. -> pitalism. \n",
      "105 pitalism.  -> italism. A\n",
      "106 italism. A -> talism. An\n",
      "107 talism. An -> alism. And\n",
      "108 alism. And -> lism. And \n",
      "109 lism. And  -> ism. And I\n",
      "110 ism. And I -> sm. And I \n",
      "111 sm. And I  -> m. And I t\n",
      "112 m. And I t -> . And I th\n",
      "113 . And I th ->  And I thi\n",
      "114  And I thi -> And I thin\n",
      "115 And I thin -> nd I think\n",
      "116 nd I think -> d I think \n",
      "117 d I think  ->  I think i\n",
      "118  I think i -> I think it\n",
      "119 I think it ->  think it'\n",
      "120  think it' -> think it's\n",
      "121 think it's -> hink it's \n",
      "122 hink it's  -> ink it's u\n",
      "123 ink it's u -> nk it's un\n",
      "124 nk it's un -> k it's und\n",
      "125 k it's und ->  it's unde\n",
      "126  it's unde -> it's unden\n",
      "127 it's unden -> t's undeni\n",
      "128 t's undeni -> 's undenia\n",
      "129 's undenia -> s undeniab\n",
      "130 s undeniab ->  undeniabl\n",
      "131  undeniabl -> undeniable\n",
      "132 undeniable -> ndeniable \n",
      "133 ndeniable  -> deniable t\n",
      "134 deniable t -> eniable th\n",
      "135 eniable th -> niable tha\n",
      "136 niable tha -> iable that\n",
      "137 iable that -> able that \n",
      "138 able that  -> ble that t\n",
      "139 ble that t -> le that th\n",
      "140 le that th -> e that the\n",
      "141 e that the ->  that the \n",
      "142  that the  -> that the h\n",
      "143 that the h -> hat the he\n",
      "144 hat the he -> at the hea\n",
      "145 at the hea -> t the hear\n",
      "146 t the hear ->  the heart\n",
      "147  the heart -> the heart \n",
      "148 the heart  -> he heart o\n",
      "149 he heart o -> e heart of\n",
      "150 e heart of ->  heart of \n",
      "151  heart of  -> heart of c\n",
      "152 heart of c -> eart of ca\n",
      "153 eart of ca -> art of cap\n",
      "154 art of cap -> rt of capi\n",
      "155 rt of capi -> t of capit\n",
      "156 t of capit ->  of capita\n",
      "157  of capita -> of capital\n",
      "158 of capital -> f capitali\n",
      "159 f capitali ->  capitalis\n",
      "160  capitalis -> capitalism\n",
      "161 capitalism -> apitalism \n",
      "162 apitalism  -> pitalism i\n",
      "163 pitalism i -> italism is\n",
      "164 italism is -> talism is \n",
      "165 talism is  -> alism is t\n",
      "166 alism is t -> lism is th\n",
      "167 lism is th -> ism is the\n",
      "168 ism is the -> sm is the \n",
      "169 sm is the  -> m is the U\n",
      "170 m is the U ->  is the U.\n",
      "171  is the U. -> is the U.S\n",
      "172 is the U.S -> s the U.S.\n",
      "173 s the U.S. ->  the U.S. \n",
      "174  the U.S.  -> the U.S. A\n",
      "175 the U.S. A -> he U.S. An\n",
      "176 he U.S. An -> e U.S. And\n",
      "177 e U.S. And ->  U.S. And \n",
      "178  U.S. And  -> U.S. And s\n",
      "179 U.S. And s -> .S. And so\n",
      "180 .S. And so -> S. And so,\n",
      "181 S. And so, -> . And so, \n",
      "182 . And so,  ->  And so, I\n",
      "183  And so, I -> And so, I \n",
      "184 And so, I  -> nd so, I t\n",
      "185 nd so, I t -> d so, I th\n",
      "186 d so, I th ->  so, I thi\n",
      "187  so, I thi -> so, I thin\n",
      "188 so, I thin -> o, I think\n",
      "189 o, I think -> , I think \n",
      "190 , I think  ->  I think i\n",
      "191  I think i -> I think it\n",
      "192 I think it ->  think it'\n",
      "193  think it' -> think it's\n",
      "194 think it's -> hink it's \n",
      "195 hink it's  -> ink it's b\n",
      "196 ink it's b -> nk it's be\n",
      "197 nk it's be -> k it's bee\n",
      "198 k it's bee ->  it's been\n",
      "199  it's been -> it's been \n",
      "200 it's been  -> t's been v\n",
      "201 t's been v -> 's been ve\n",
      "202 's been ve -> s been ver\n",
      "203 s been ver ->  been very\n",
      "204  been very -> been very \n",
      "205 been very  -> een very g\n",
      "206 een very g -> en very gr\n",
      "207 en very gr -> n very gra\n",
      "208 n very gra ->  very grat\n",
      "209  very grat -> very grati\n",
      "210 very grati -> ery gratif\n",
      "211 ery gratif -> ry gratify\n",
      "212 ry gratify -> y gratifyi\n",
      "213 y gratifyi ->  gratifyin\n",
      "214  gratifyin -> gratifying\n",
      "215 gratifying -> ratifying \n",
      "216 ratifying  -> atifying t\n",
      "217 atifying t -> tifying to\n",
      "218 tifying to -> ifying to \n",
      "219 ifying to  -> fying to s\n",
      "220 fying to s -> ying to se\n",
      "221 ying to se -> ing to see\n",
      "222 ing to see -> ng to see \n",
      "223 ng to see  -> g to see t\n",
      "224 g to see t ->  to see th\n",
      "225  to see th -> to see the\n",
      "226 to see the -> o see the \n",
      "227 o see the  ->  see the s\n",
      "228  see the s -> see the st\n",
      "229 see the st -> ee the str\n",
      "230 ee the str -> e the stro\n",
      "231 e the stro ->  the stron\n",
      "232  the stron -> the strong\n",
      "233 the strong -> he strong \n",
      "234 he strong  -> e strong r\n",
      "235 e strong r ->  strong re\n",
      "236  strong re -> strong rea\n",
      "237 strong rea -> trong reac\n",
      "238 trong reac -> rong react\n",
      "239 rong react -> ong reacti\n",
      "240 ong reacti -> ng reactio\n",
      "241 ng reactio -> g reaction\n",
      "242 g reaction ->  reaction \n",
      "243  reaction  -> reaction h\n",
      "244 reaction h -> eaction he\n",
      "245 eaction he -> action her\n",
      "246 action her -> ction here\n",
      "247 ction here -> tion here.\n"
     ]
    }
   ],
   "source": [
    "x_data = []\n",
    "y_data = []\n",
    "\n",
    "for i in range(0, len(sent) - seq_length):\n",
    "    x_str = sent[i:i+seq_length]\n",
    "    y_str = sent[i+1:i+seq_length+1]\n",
    "    print(i, x_str, '->', y_str)\n",
    "    \n",
    "    x_data.append([dic_char[c] for c in x_str])\n",
    "    y_data.append([dic_char[c] for c in y_str])"
   ]
  },
  {
   "cell_type": "code",
   "execution_count": 11,
   "metadata": {},
   "outputs": [],
   "source": [
    "X = torch.FloatTensor(x_one_hot)\n",
    "Y = torch.LongTensor(y_data)"
   ]
  },
  {
   "cell_type": "markdown",
   "metadata": {},
   "source": [
    "## 7) model architecture를 설계합니다"
   ]
  },
  {
   "cell_type": "code",
   "execution_count": 12,
   "metadata": {},
   "outputs": [],
   "source": [
    "class Net(nn.Module):\n",
    "    def __init__(self, input_dim, hidden_dim, layers):\n",
    "        super(Net, self).__init__()\n",
    "        self.rnn = nn.RNN(input_dim, hidden_dim, num_layers=layers, batch_first=True)\n",
    "        self.fc = nn.Linear(hidden_dim, hidden_dim, bias=True)\n",
    "        \n",
    "    def forward(self, x):\n",
    "        x, _status = self.rnn(x)\n",
    "        x = self.fc(x)\n",
    "        return x"
   ]
  },
  {
   "cell_type": "markdown",
   "metadata": {},
   "source": [
    "## 8) model, criterion, optimizer를 선언합니다"
   ]
  },
  {
   "cell_type": "code",
   "execution_count": 13,
   "metadata": {},
   "outputs": [],
   "source": [
    "net = Net(dic_size, hidden_size, 2)\n",
    "criterion = nn.CrossEntropyLoss()\n",
    "optimizer = optim.Adam(net.parameters(), lr=learning_rate)"
   ]
  },
  {
   "cell_type": "markdown",
   "metadata": {},
   "source": [
    "## 9) training을 시작합니다"
   ]
  },
  {
   "cell_type": "code",
   "execution_count": 56,
   "metadata": {},
   "outputs": [
    {
     "name": "stdout",
     "output_type": "stream",
     "text": [
      "100 번째 출력 (loss: 2.6374568939208984 \n",
      "  e   aee   ae  te   iae          ie    e   tae   t tet      ee   e   ee    at tet    t      ee   ee   tat t t t   t t t tee   iee   et      e   e   ae   a   te  ae t   t   e   e   t   at t t   tee   iee   ee   ee  iae  t     tee    t e   ae   ae   ee   ee   \n",
      "-----------------------------------------------------------------------------------------------\n",
      "200 번째 출력 (loss: 1.624925136566162 \n",
      " ees t ory it t deny iorteateraty on  aboot the g pitetieen ierh ind toont And trtenthalyyy it's about thpithlisy  And t thenk it's aed adeple then the  ea t on inpithlisy is the t d  And too i thenk it's aee  iery iratityind tortea the  eae k ae ition har   \n",
      "-----------------------------------------------------------------------------------------------\n",
      "300 번째 출력 (loss: 0.9804033637046814 \n",
      " eis seony is a veny corte porary ont about the gap oetheen rirh and poor. And totentially  it's about tapitalism  And t thenk it's andeniable that the heart of capitalism is the g.S. And ton I thenk it's aeen iery cratitying toasee the strong reaction hery  \n",
      "-----------------------------------------------------------------------------------------------\n",
      "400 번째 출력 (loss: 0.6630600094795227 \n",
      " his seory is a very conte porary one about the gap between rich and poor. And essentially, it's about capitalism  And I think it's andeniable that the heart of capitalism is the g.S. And Io, I think it's aeen very gratifying to see the strong reaction herh  \n",
      "-----------------------------------------------------------------------------------------------\n",
      "500 번째 출력 (loss: 0.5049569606781006 \n",
      " his story is a very contemporary one about the gap between rich and poor. And essentially, it's about capitalism  And I think it's bndeniable that the heart of capitalism is the U.S. And so, I think it's been very gratifying to see the strong reaction heret \n",
      "-----------------------------------------------------------------------------------------------\n",
      "600 번째 출력 (loss: 0.4227774739265442 \n",
      " his story is a very contemporary one about the gap between rich and poor. And essentially, it's about capitalism  And I think it's bndeniable that the heart of capitalism is the U.S. And so, I think it's been very gratifying to see the strong reaction here. \n",
      "-----------------------------------------------------------------------------------------------\n",
      "700 번째 출력 (loss: 0.37581244111061096 \n",
      " his story is a very contemporary one about the gap between rich and poor. And essentially, it's about capitalism  And I think it's bndeniable that the heart of capitalism is the U.S. And so, I think it's been very gratifying to see the strong reaction here. \n",
      "-----------------------------------------------------------------------------------------------\n",
      "800 번째 출력 (loss: 0.3446313440799713 \n",
      " his story is a very contemporary one about the gap between rich and poor. And essentially, it's about capitalism  And I think it's bndeniable that the heart of capitalism is the U.S. And so, I think it's been very gratifying to see the strong reaction here. \n",
      "-----------------------------------------------------------------------------------------------\n",
      "900 번째 출력 (loss: 0.32243120670318604 \n",
      " his story is a very contemporary one about the gap between rich and poor. And essentially, it's about capitalism  And I think it's bndeniable that the heart of capitalism is the U.S. And so, I think it's been very gratifying to see the strong reaction here. \n",
      "-----------------------------------------------------------------------------------------------\n",
      "1000 번째 출력 (loss: 0.3066881597042084 \n",
      " his story is a very contemporary one about the gap between rich and poor. And essentially, it's about capitalism. And I think it's bndeniable that the heart of capitalism.is the U.S. And so, I think it's been very gratifying to see the strong reaction here. \n",
      "-----------------------------------------------------------------------------------------------\n"
     ]
    }
   ],
   "source": [
    "epochs = 1000\n",
    "for epoch in range(1, epochs+1):\n",
    "    output = net(X)\n",
    "    \n",
    "    loss = criterion(output.view(-1, dic_size), Y.view(-1))\n",
    "    \n",
    "    optimizer.zero_grad()\n",
    "    loss.backward()\n",
    "    optimizer.step()\n",
    "    \n",
    "    if epoch % 100 == 0:\n",
    "        results = output.argmax(dim=2)\n",
    "        predict_str = ''\n",
    "\n",
    "        for j, result in enumerate(results):\n",
    "\n",
    "            if j == 0:\n",
    "                predict_str += ''.join([set_char[t] for t in result])\n",
    "            else:\n",
    "                predict_str += set_char[result[-1]]\n",
    "\n",
    "        print(epoch, '번째 출력 (loss:', loss.item(),'\\n', predict_str, \n",
    "              '\\n-----------------------------------------------------------------------------------------------')"
   ]
  },
  {
   "cell_type": "markdown",
   "metadata": {},
   "source": [
    "# Full code"
   ]
  },
  {
   "cell_type": "code",
   "execution_count": 24,
   "metadata": {},
   "outputs": [
    {
     "name": "stdout",
     "output_type": "stream",
     "text": [
      " 200번째 출력 (loss: 1.928903):\n",
      " ee  hanan snioln th tel s fea i siot oene on the he  on  snhenl  sn th  an  shenal ol  she ohtion l oll  on iioe the n oniln ng  ionen s ne the oart on the onraenrioti sihaean  shetion the ohronean snion  shn lting on on tiotion oet  hel sn one oe ion n on  n  ation on the the o ion oe oneatio onion the s \n",
      "-------------------------------------------------------------------------------\n",
      " 400번째 출력 (loss: 0.758164):\n",
      " hrnchlaor Angela ferkel's party will vote on whether all schools in Uermany should fly the national flag oftside their buildings, alongside the flag of the oppropriate staleand that of the ouropean Union  following an initiatice launched by one regional organization of the shristian Democratic Union wCDUw \n",
      "-------------------------------------------------------------------------------\n",
      " 600번째 출력 (loss: 0.459276):\n",
      " hrncellor Angela Merkel's party will vote on whether all schools in Germany should fly the national flag outside their buildings, alongside the flag of the appropriate stateand that of the Curopean Union, following an initiative launched by one regional organization of the Christian Democratic Union (CDUm \n",
      "-------------------------------------------------------------------------------\n",
      " 800번째 출력 (loss: 0.367768):\n",
      " hrncellor Angela Merkel's party will vote on whether all schools in Germany should fly the national flag outside their buildings, alongside the flag of the appropriate stateand that of the Curopean Union, following an initiative launched by one regional organization of the Christian Democratic Union (CDU) \n",
      "-------------------------------------------------------------------------------\n",
      "1000번째 출력 (loss: 0.329244):\n",
      " hrncellor Angela Merkel's party will vote on whether all schools in Germany should fly the national flag outside their buildings, alongside the flag of the appropriate stateand that of the European Union, following an initiative launched by one regional organization of the Christian Democratic Union (CDU) \n",
      "-------------------------------------------------------------------------------\n",
      "1200번째 출력 (loss: 0.309634):\n",
      " hrncellor Angela Merkel's party will vote on whether all schools in Germany should fly the national flag outside their buildings, alongside the flag of the appropriate stateand that of the European Union, following an initiative launched by one regional organization of the Christian Democratic Union (CDU) \n",
      "-------------------------------------------------------------------------------\n",
      "1400번째 출력 (loss: 0.298435):\n",
      " hrncellor Angela Merkel's party will vote on whether all schools in Germany should fly the national flag outside their buildings, alongside the flag of the appropriate stateand that of the European Union, following an initiative launched by one regional organization of the Christian Democratic Union (CDU) \n",
      "-------------------------------------------------------------------------------\n",
      "1600번째 출력 (loss: 0.291597):\n",
      " hrncellor Angela Merkel's party will vote on whether all schools in Germany should fly the national flag outside their buildings, alongside the flag of the appropriate stateand that of the European Union, following an initiative launched by one regional organization of the Christian Democratic Union (CDU) \n",
      "-------------------------------------------------------------------------------\n",
      "1800번째 출력 (loss: 0.287197):\n",
      " hrncellor Angela Merkel's party will vote on whether all schools in Germany should fly the national flag outside their buildings, alongside the flag of the appropriate stateand that of the European Union, following an initiative launched by one regional organization of the Christian Democratic Union (CDU) \n",
      "-------------------------------------------------------------------------------\n",
      "2000번째 출력 (loss: 0.284240):\n",
      " hrncellor Angela Merkel's party will vote on whether all schools in Germany should fly the national flag outside their buildings, alongside the flag of the appropriate stateand that of the European Union, following an initiative launched by one regional organization of the Christian Democratic Union (CDU) \n",
      "-------------------------------------------------------------------------------\n"
     ]
    }
   ],
   "source": [
    "import torch\n",
    "import torch.nn as nn\n",
    "import torch.optim as optim\n",
    "import numpy as np\n",
    "\n",
    "torch.manual_seed(1)\n",
    "\n",
    "sent = (\"Chancellor Angela Merkel's party will vote on whether all schools in Germany \"\n",
    "        'should fly the national flag outside their buildings, alongside the flag of the appropriate state' \n",
    "        'and that of the European Union, following an initiative launched by one regional organization '\n",
    "        'of the Christian Democratic Union (CDU)')\n",
    "\n",
    "set_char = list(set(sent))\n",
    "dic_char = {c:i for i, c in enumerate(set_char)}\n",
    "\n",
    "dic_size = len(dic_char)\n",
    "hidden_size = len(dic_char)\n",
    "seq_length = 10\n",
    "learning_rate = 1e-3\n",
    "epochs = 2000\n",
    "\n",
    "x_data = []\n",
    "y_data = []\n",
    "\n",
    "for i in range(0, len(sent)-seq_length):\n",
    "    x_str = sent[i:i+seq_length]\n",
    "    y_str = sent[i+1:i+seq_length+1]\n",
    "    \n",
    "    x_data.append([dic_char[c] for c in x_str])\n",
    "    y_data.append([dic_char[c] for c in y_str])\n",
    "    \n",
    "x_one_hot = [np.eye(dic_size)[x] for x in x_data]\n",
    "    \n",
    "X = torch.FloatTensor(x_one_hot)\n",
    "Y = torch.LongTensor(y_data)\n",
    "\n",
    "class Net(nn.Module):\n",
    "    def __init__(self, input_dim, hidden_dim, layers):\n",
    "        super(Net, self).__init__()\n",
    "        self.rnn = nn.RNN(input_dim, hidden_dim, num_layers=layers, batch_first=True)\n",
    "        self.fc = nn.Linear(hidden_dim, hidden_dim, bias=True)\n",
    "        \n",
    "    def forward(self, x):\n",
    "        x, _status = self.rnn(x)\n",
    "        x = self.fc(x)\n",
    "        return x\n",
    "    \n",
    "net = Net(dic_size, hidden_size, 2)\n",
    "criterion = nn.CrossEntropyLoss()\n",
    "optimizer = optim.Adam(net.parameters(), lr=learning_rate)\n",
    "\n",
    "for epoch in range(1, epochs+1):\n",
    "    output = net(X)\n",
    "    \n",
    "    loss = criterion(output.view(-1, dic_size), Y.view(-1))\n",
    "    \n",
    "    optimizer.zero_grad()\n",
    "    loss.backward()\n",
    "    optimizer.step()\n",
    "    \n",
    "    if epoch % 200 == 0:\n",
    "        results = output.argmax(dim=2)\n",
    "        predict_str = ''\n",
    "        \n",
    "        for j, result in enumerate(results):\n",
    "            \n",
    "            if j == 0:\n",
    "                predict_str += ''.join([set_char[t] for t in result])\n",
    "                \n",
    "            else:\n",
    "                predict_str += set_char[result[-1]]\n",
    "                \n",
    "        print('{:4d}번째 출력 (loss: {:.6f}):\\n {} {}'.format(epoch, loss.item(), predict_str,\n",
    "             '\\n-------------------------------------------------------------------------------'))"
   ]
  }
 ],
 "metadata": {
  "kernelspec": {
   "display_name": "Python 3",
   "language": "python",
   "name": "python3"
  },
  "language_info": {
   "codemirror_mode": {
    "name": "ipython",
    "version": 3
   },
   "file_extension": ".py",
   "mimetype": "text/x-python",
   "name": "python",
   "nbconvert_exporter": "python",
   "pygments_lexer": "ipython3",
   "version": "3.6.9"
  }
 },
 "nbformat": 4,
 "nbformat_minor": 2
}
