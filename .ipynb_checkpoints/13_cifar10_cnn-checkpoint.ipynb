{
 "cells": [
  {
   "cell_type": "markdown",
   "metadata": {},
   "source": [
    "# Cifar10 with CNN "
   ]
  },
  {
   "cell_type": "markdown",
   "metadata": {},
   "source": [
    "## 1) 사용가능한 GPU를 확인합니다"
   ]
  },
  {
   "cell_type": "code",
   "execution_count": 1,
   "metadata": {
    "colab": {
     "base_uri": "https://localhost:8080/",
     "height": 335
    },
    "colab_type": "code",
    "id": "HnYHcmA1qVvC",
    "outputId": "2e90fdc2-a062-47e7-e893-48d832edee4a"
   },
   "outputs": [
    {
     "name": "stdout",
     "output_type": "stream",
     "text": [
      "Wed Jan 22 07:27:55 2020       \n",
      "+-----------------------------------------------------------------------------+\n",
      "| NVIDIA-SMI 440.44       Driver Version: 418.67       CUDA Version: 10.1     |\n",
      "|-------------------------------+----------------------+----------------------+\n",
      "| GPU  Name        Persistence-M| Bus-Id        Disp.A | Volatile Uncorr. ECC |\n",
      "| Fan  Temp  Perf  Pwr:Usage/Cap|         Memory-Usage | GPU-Util  Compute M. |\n",
      "|===============================+======================+======================|\n",
      "|   0  Tesla P100-PCIE...  Off  | 00000000:00:04.0 Off |                    0 |\n",
      "| N/A   37C    P0    27W / 250W |      0MiB / 16280MiB |      0%      Default |\n",
      "+-------------------------------+----------------------+----------------------+\n",
      "                                                                               \n",
      "+-----------------------------------------------------------------------------+\n",
      "| Processes:                                                       GPU Memory |\n",
      "|  GPU       PID   Type   Process name                             Usage      |\n",
      "|=============================================================================|\n",
      "|  No running processes found                                                 |\n",
      "+-----------------------------------------------------------------------------+\n"
     ]
    }
   ],
   "source": [
    "!nvidia-smi"
   ]
  },
  {
   "cell_type": "markdown",
   "metadata": {},
   "source": [
    "## 2) 필요한 모듈을 import 합니다"
   ]
  },
  {
   "cell_type": "code",
   "execution_count": 0,
   "metadata": {
    "colab": {},
    "colab_type": "code",
    "id": "nRtbud6kqVsg"
   },
   "outputs": [],
   "source": [
    "import torch\n",
    "import torch.nn as nn\n",
    "import torch.nn.functional as F\n",
    "import torch.optim as optim\n",
    "import torchvision.datasets as dsets\n",
    "import torchvision.transforms as transforms\n",
    "import random\n",
    "import matplotlib.pyplot as plt"
   ]
  },
  {
   "cell_type": "markdown",
   "metadata": {},
   "source": [
    "## 3) manual seed를 고정시킵니다"
   ]
  },
  {
   "cell_type": "code",
   "execution_count": 0,
   "metadata": {
    "colab": {
     "base_uri": "https://localhost:8080/",
     "height": 36
    },
    "colab_type": "code",
    "id": "ScePUeqzqVpG",
    "outputId": "ebe2fe4d-076c-4a97-b790-1ef3deba6695"
   },
   "outputs": [
    {
     "data": {
      "text/plain": [
       "<torch._C.Generator at 0x7f947583f210>"
      ]
     },
     "execution_count": 3,
     "metadata": {
      "tags": []
     },
     "output_type": "execute_result"
    }
   ],
   "source": [
    "random.seed(1)\n",
    "torch.manual_seed(1)"
   ]
  },
  {
   "cell_type": "markdown",
   "metadata": {
    "colab_type": "text",
    "id": "T37zDfHHrna6"
   },
   "source": [
    "## 4) hyper parameter를 설정합니다"
   ]
  },
  {
   "cell_type": "code",
   "execution_count": 0,
   "metadata": {
    "colab": {},
    "colab_type": "code",
    "id": "7BtFKQ7nrrTs"
   },
   "outputs": [],
   "source": [
    "batch_size = 100\n",
    "epochs = 50\n",
    "learning_rate = 1e-3"
   ]
  },
  {
   "cell_type": "markdown",
   "metadata": {
    "colab_type": "text",
    "id": "uqZWnf5Tr4UL"
   },
   "source": [
    "## 5) torchvision으로부터 데이터를 불러옵니다"
   ]
  },
  {
   "cell_type": "code",
   "execution_count": 0,
   "metadata": {
    "colab": {
     "base_uri": "https://localhost:8080/",
     "height": 55
    },
    "colab_type": "code",
    "id": "quS0fDyvrrQ_",
    "outputId": "ff7d6d76-04ec-4843-cd9c-f19440d3749f"
   },
   "outputs": [
    {
     "name": "stdout",
     "output_type": "stream",
     "text": [
      "Files already downloaded and verified\n",
      "Files already downloaded and verified\n"
     ]
    }
   ],
   "source": [
    "cifar10_train = dsets.CIFAR10(root='cifar10',\n",
    "                              train=True,\n",
    "                              transform=transforms.ToTensor(),\n",
    "                              download=True)\n",
    "cifar10_test = dsets.CIFAR10(root='cifar10',\n",
    "                             train=False,\n",
    "                             transform=transforms.ToTensor(),\n",
    "                             download=True)"
   ]
  },
  {
   "cell_type": "markdown",
   "metadata": {
    "colab_type": "text",
    "id": "lT9uuqpksXkg"
   },
   "source": [
    "## 6) 불러온 데이터를 각각 데이터 로더에 넣어줍니다"
   ]
  },
  {
   "cell_type": "code",
   "execution_count": 0,
   "metadata": {
    "colab": {},
    "colab_type": "code",
    "id": "JOVcEIbfr3qJ"
   },
   "outputs": [],
   "source": [
    "train_loader = torch.utils.data.DataLoader(cifar10_train, \n",
    "                                           batch_size=100,\n",
    "                                           shuffle=True, \n",
    "                                           num_workers=2)\n",
    "\n",
    "test_loader = torch.utils.data.DataLoader(cifar10_test, \n",
    "                                          batch_size=10000,\n",
    "                                          shuffle=False, \n",
    "                                          num_workers=2)"
   ]
  },
  {
   "cell_type": "markdown",
   "metadata": {
    "colab_type": "text",
    "id": "nRnPnd3aswEJ"
   },
   "source": [
    "## 7) CNN structure를 구축합니다"
   ]
  },
  {
   "cell_type": "code",
   "execution_count": 0,
   "metadata": {
    "colab": {},
    "colab_type": "code",
    "id": "WOlWHlX1rrNG"
   },
   "outputs": [],
   "source": [
    "class CNN(nn.Module):\n",
    "    def __init__(self):\n",
    "        super(CNN, self).__init__()\n",
    "        self.conv1 = nn.Conv2d(3, 6, 5)\n",
    "        self.pool = nn.MaxPool2d(2, 2)\n",
    "        self.conv2 = nn.Conv2d(6, 16, 5)\n",
    "        self.fc1 = nn.Linear(16*5*5, 120)\n",
    "        self.fc2 = nn.Linear(120, 84)\n",
    "        self.fc3 = nn.Linear(84, 10)\n",
    "\n",
    "    def forward(self, x):\n",
    "        x = self.pool(F.relu(self.conv1(x)))\n",
    "        x = self.pool(F.relu(self.conv2(x)))\n",
    "        x = x.view(-1, 16*5*5)\n",
    "        x = F.relu(self.fc1(x))\n",
    "        x = F.relu(self.fc2(x))\n",
    "        x = self.fc3(x)\n",
    "        return x"
   ]
  },
  {
   "cell_type": "markdown",
   "metadata": {},
   "source": [
    "## 8) 모델을 생성하고 모델 정보를 출력해봅니다"
   ]
  },
  {
   "cell_type": "code",
   "execution_count": 0,
   "metadata": {
    "colab": {
     "base_uri": "https://localhost:8080/",
     "height": 167
    },
    "colab_type": "code",
    "id": "zKQGpEqBrrKb",
    "outputId": "4b162053-3d45-4f4e-ef41-b66881cd09e8"
   },
   "outputs": [
    {
     "data": {
      "text/plain": [
       "CNN(\n",
       "  (conv1): Conv2d(3, 6, kernel_size=(5, 5), stride=(1, 1))\n",
       "  (pool): MaxPool2d(kernel_size=2, stride=2, padding=0, dilation=1, ceil_mode=False)\n",
       "  (conv2): Conv2d(6, 16, kernel_size=(5, 5), stride=(1, 1))\n",
       "  (fc1): Linear(in_features=400, out_features=120, bias=True)\n",
       "  (fc2): Linear(in_features=120, out_features=84, bias=True)\n",
       "  (fc3): Linear(in_features=84, out_features=10, bias=True)\n",
       ")"
      ]
     },
     "execution_count": 122,
     "metadata": {
      "tags": []
     },
     "output_type": "execute_result"
    }
   ],
   "source": [
    "model = CNN()\n",
    "model"
   ]
  },
  {
   "cell_type": "markdown",
   "metadata": {},
   "source": [
    "## 9) 임의의 텐서를 생성하여 모델을 테스트합니다"
   ]
  },
  {
   "cell_type": "code",
   "execution_count": 0,
   "metadata": {
    "colab": {
     "base_uri": "https://localhost:8080/",
     "height": 36
    },
    "colab_type": "code",
    "id": "WBxc_eANrrIQ",
    "outputId": "7d0d56b5-af5b-4b2d-fa52-ca4a047e374e"
   },
   "outputs": [
    {
     "data": {
      "text/plain": [
       "torch.Size([100, 10])"
      ]
     },
     "execution_count": 123,
     "metadata": {
      "tags": []
     },
     "output_type": "execute_result"
    }
   ],
   "source": [
    "value = torch.FloatTensor(100, 3, 32, 32)\n",
    "model(value).shape"
   ]
  },
  {
   "cell_type": "markdown",
   "metadata": {
    "colab_type": "text",
    "id": "PWSgQ0cNyGT9"
   },
   "source": [
    "## 10) criterion & optimizer를 지정합니다"
   ]
  },
  {
   "cell_type": "code",
   "execution_count": 0,
   "metadata": {
    "colab": {},
    "colab_type": "code",
    "id": "iNDgheH1yF0v"
   },
   "outputs": [],
   "source": [
    "criterion = nn.CrossEntropyLoss()\n",
    "optimizer = optim.Adam(model.parameters(), lr=learning_rate)"
   ]
  },
  {
   "cell_type": "markdown",
   "metadata": {
    "colab_type": "text",
    "id": "55uSJXXBymRG"
   },
   "source": [
    "## 11) model training을 시작합니다"
   ]
  },
  {
   "cell_type": "code",
   "execution_count": 0,
   "metadata": {
    "colab": {
     "base_uri": "https://localhost:8080/",
     "height": 969
    },
    "colab_type": "code",
    "id": "rxkox9PTrrF9",
    "outputId": "4f7d9fed-557f-408c-ca22-66d84f76d805"
   },
   "outputs": [
    {
     "name": "stdout",
     "output_type": "stream",
     "text": [
      "[epoch:  1/50] loss: 1.765743\n",
      "[epoch:  2/50] loss: 1.520452\n",
      "[epoch:  3/50] loss: 1.414107\n",
      "[epoch:  4/50] loss: 1.338522\n",
      "[epoch:  5/50] loss: 1.282692\n",
      "[epoch:  6/50] loss: 1.238215\n",
      "[epoch:  7/50] loss: 1.189969\n",
      "[epoch:  8/50] loss: 1.153670\n",
      "[epoch:  9/50] loss: 1.121452\n",
      "[epoch: 10/50] loss: 1.091728\n",
      "[epoch: 11/50] loss: 1.055017\n",
      "[epoch: 12/50] loss: 1.025882\n",
      "[epoch: 13/50] loss: 1.001712\n",
      "[epoch: 14/50] loss: 0.977865\n",
      "[epoch: 15/50] loss: 0.951719\n",
      "[epoch: 16/50] loss: 0.930897\n",
      "[epoch: 17/50] loss: 0.908178\n",
      "[epoch: 18/50] loss: 0.883849\n",
      "[epoch: 19/50] loss: 0.870442\n",
      "[epoch: 20/50] loss: 0.857832\n",
      "[epoch: 21/50] loss: 0.833644\n",
      "[epoch: 22/50] loss: 0.815881\n",
      "[epoch: 23/50] loss: 0.805751\n",
      "[epoch: 24/50] loss: 0.787463\n",
      "[epoch: 25/50] loss: 0.772788\n",
      "[epoch: 26/50] loss: 0.758168\n",
      "[epoch: 27/50] loss: 0.749026\n",
      "[epoch: 28/50] loss: 0.733450\n",
      "[epoch: 29/50] loss: 0.719779\n",
      "[epoch: 30/50] loss: 0.714100\n",
      "[epoch: 31/50] loss: 0.701066\n",
      "[epoch: 32/50] loss: 0.682356\n",
      "[epoch: 33/50] loss: 0.673106\n",
      "[epoch: 34/50] loss: 0.660153\n",
      "[epoch: 35/50] loss: 0.650174\n",
      "[epoch: 36/50] loss: 0.642710\n",
      "[epoch: 37/50] loss: 0.627208\n",
      "[epoch: 38/50] loss: 0.616095\n",
      "[epoch: 39/50] loss: 0.609773\n",
      "[epoch: 40/50] loss: 0.595798\n",
      "[epoch: 41/50] loss: 0.587260\n",
      "[epoch: 42/50] loss: 0.587130\n",
      "[epoch: 43/50] loss: 0.571455\n",
      "[epoch: 44/50] loss: 0.565359\n",
      "[epoch: 45/50] loss: 0.552743\n",
      "[epoch: 46/50] loss: 0.541685\n",
      "[epoch: 47/50] loss: 0.530486\n",
      "[epoch: 48/50] loss: 0.525190\n",
      "[epoch: 49/50] loss: 0.524462\n",
      "[epoch: 50/50] loss: 0.514729\n",
      "Learning finished\n"
     ]
    }
   ],
   "source": [
    "model.train()\n",
    "for epoch in range(1, epochs+1):\n",
    "    avg_loss = 0\n",
    "    total_batch = len(data_loader)\n",
    "\n",
    "    for x_train, y_train in data_loader:\n",
    "        prediction = model(x_train)\n",
    "\n",
    "        loss = criterion(prediction, y_train)\n",
    "\n",
    "        optimizer.zero_grad()\n",
    "        loss.backward()\n",
    "        optimizer.step()\n",
    "\n",
    "        avg_loss += loss / total_batch\n",
    "\n",
    "    print('[epoch: {:2d}/{}] loss: {:.6f}'.format(epoch, epochs, avg_loss))\n",
    "\n",
    "print('Learning finished')"
   ]
  },
  {
   "cell_type": "markdown",
   "metadata": {},
   "source": [
    "## 12) trained model의 test를 수행합니다"
   ]
  },
  {
   "cell_type": "code",
   "execution_count": 0,
   "metadata": {
    "colab": {
     "base_uri": "https://localhost:8080/",
     "height": 322
    },
    "colab_type": "code",
    "id": "10NXQWAWrrDJ",
    "outputId": "4bf00a27-5729-4727-957c-e6a4631d2299"
   },
   "outputs": [
    {
     "name": "stdout",
     "output_type": "stream",
     "text": [
      "accuracy:  0.6104000210762024\n",
      "Label: 0, airplane\n",
      "Prediction: 0, airplane\n"
     ]
    },
    {
     "data": {
      "image/png": "[encoded data removed]",
      "text/plain": [
       "<Figure size 432x288 with 1 Axes>"
      ]
     },
     "metadata": {
      "tags": []
     },
     "output_type": "display_data"
    }
   ],
   "source": [
    "model.eval()\n",
    "with torch.no_grad():\n",
    "    for x_test, y_test in test_loader:\n",
    "        prediction = model(x_test)    \n",
    "        correct = torch.argmax(prediction, 1) == torch.LongTensor(y_test)\n",
    "        accuracy = correct.float().mean()\n",
    "        print('accuracy: ', accuracy.item())\n",
    "\n",
    "        r = random.randint(0, len(x_test)-1)\n",
    "        x_test_r = x_test[r].view(-1, 3, 32, 32)\n",
    "        y_test_r = y_test[r]\n",
    "        prediction_r = model(x_test_r)\n",
    "\n",
    "        classes = cifar10_test.classes\n",
    "\n",
    "        print('Label: {}, {}'.format(y_test_r, classes[y_test_r]))\n",
    "        print('Prediction: {}, {}'.format(torch.argmax(prediction_r), classes[torch.argmax(prediction_r)]))\n",
    "\n",
    "        x = cifar10_test.data[r]\n",
    "        plt.imshow(x)\n",
    "        plt.show()"
   ]
  },
  {
   "cell_type": "markdown",
   "metadata": {
    "colab_type": "text",
    "id": "Rzc9dQ4dJuVp"
   },
   "source": [
    "# Full code"
   ]
  },
  {
   "cell_type": "code",
   "execution_count": 15,
   "metadata": {
    "colab": {
     "base_uri": "https://localhost:8080/",
     "height": 353
    },
    "colab_type": "code",
    "id": "qdVB6fhdrrBw",
    "outputId": "38ac58f5-a043-4424-8ed7-00ea4e74d165"
   },
   "outputs": [
    {
     "name": "stdout",
     "output_type": "stream",
     "text": [
      "Files already downloaded and verified\n",
      "Files already downloaded and verified\n",
      "[epoch:  1/15] loss: 1.791955\n",
      "[epoch:  2/15] loss: 1.495150\n",
      "[epoch:  3/15] loss: 1.387906\n",
      "[epoch:  4/15] loss: 1.307262\n",
      "[epoch:  5/15] loss: 1.253007\n",
      "[epoch:  6/15] loss: 1.218557\n",
      "[epoch:  7/15] loss: 1.172794\n",
      "[epoch:  8/15] loss: 1.138850\n",
      "[epoch:  9/15] loss: 1.107512\n",
      "[epoch: 10/15] loss: 1.087272\n",
      "[epoch: 11/15] loss: 1.054132\n",
      "[epoch: 12/15] loss: 1.034090\n",
      "[epoch: 13/15] loss: 1.009869\n",
      "[epoch: 14/15] loss: 0.985977\n",
      "[epoch: 15/15] loss: 0.963989\n",
      "learning_finished\n"
     ]
    }
   ],
   "source": [
    "import torch\n",
    "import torch.nn as nn\n",
    "import torch.nn.functional as F\n",
    "import torch.optim as optim\n",
    "import torchvision.datasets as dsets\n",
    "import torchvision.transforms as transforms\n",
    "import random\n",
    "import matplotlib.pyplot as plt\n",
    "\n",
    "random.seed(1)\n",
    "torch.manual_seed(1)\n",
    "\n",
    "batch_size = 100\n",
    "epochs = 15\n",
    "learning_rate = 1e-3\n",
    "\n",
    "cifar10_train = dsets.CIFAR10(root='cifar10',\n",
    "                              train=True,\n",
    "                              transform=transforms.ToTensor(),\n",
    "                              download=True)\n",
    "cifar10_test = dsets.CIFAR10(root='cifar10',\n",
    "                             train=False,\n",
    "                             transform=transforms.ToTensor(),\n",
    "                             download=True)\n",
    "\n",
    "train_loader = torch.utils.data.DataLoader(dataset=cifar10_train,\n",
    "                                           batch_size=batch_size,\n",
    "                                           shuffle=True,\n",
    "                                           drop_last=True)\n",
    "test_loader = torch.utils.data.DataLoader(dataset=cifar10_test,\n",
    "                                          batch_size=10000,\n",
    "                                          shuffle=False,\n",
    "                                          drop_last=True)\n",
    "\n",
    "class CNN(nn.Module):\n",
    "    def __init__(self):\n",
    "        super(CNN, self).__init__()\n",
    "        self.conv1 = nn.Conv2d(3, 6, 5)\n",
    "        self.pool = nn.MaxPool2d(2, 2)\n",
    "        self.conv2 = nn.Conv2d(6, 16, 5)\n",
    "        self.fc1 = nn.Linear(16*5*5, 120)\n",
    "        self.fc2 = nn.Linear(120, 84)\n",
    "        self.fc3 = nn.Linear(84, 10)\n",
    "        nn.init.xavier_uniform_(self.fc1.weight)\n",
    "        nn.init.xavier_uniform_(self.fc2.weight)\n",
    "\n",
    "    def forward(self, x):\n",
    "        x = self.pool(F.relu(self.conv1(x)))\n",
    "        x = self.pool(F.relu(self.conv2(x)))\n",
    "        x = x.view(-1, 16*5*5)\n",
    "        x = F.relu(self.fc1(x))\n",
    "        x = F.relu(self.fc2(x))\n",
    "        x = self.fc3(x)\n",
    "        return x\n",
    "\n",
    "model = CNN()\n",
    "value = torch.FloatTensor(100, 3, 32, 32)\n",
    "# print(value.shape)\n",
    "\n",
    "criterion = nn.CrossEntropyLoss()\n",
    "optimizer = optim.Adam(model.parameters(), lr=learning_rate)\n",
    "\n",
    "model.train()\n",
    "for epoch in range(1, epochs+1):\n",
    "    avg_loss = 0\n",
    "    total_batch = len(train_loader)\n",
    "\n",
    "    for x_train, y_train in train_loader:\n",
    "        prediction = model(x_train)\n",
    "\n",
    "        loss = criterion(prediction, y_train)\n",
    "\n",
    "        optimizer.zero_grad()\n",
    "        loss.backward()\n",
    "        optimizer.step()\n",
    "\n",
    "        avg_loss += loss / total_batch\n",
    "\n",
    "    print('[epoch: {:2d}/{}] loss: {:.6f}'.format(epoch, epochs, avg_loss))\n",
    "\n",
    "print('learning_finished')"
   ]
  },
  {
   "cell_type": "code",
   "execution_count": 24,
   "metadata": {
    "colab": {
     "base_uri": "https://localhost:8080/",
     "height": 341
    },
    "colab_type": "code",
    "id": "SPgKXw-Crq-s",
    "outputId": "b1658248-5a6a-48ef-8df2-8d09803958d8"
   },
   "outputs": [
    {
     "name": "stdout",
     "output_type": "stream",
     "text": [
      "accuracy:  0.623199999332428\n",
      "torch.Size([1, 3, 32, 32])\n",
      "Label:  3 cat\n",
      "Prediction:  3 cat\n"
     ]
    },
    {
     "data": {
      "image/png": "[encoded data removed]",
      "text/plain": [
       "<Figure size 432x288 with 1 Axes>"
      ]
     },
     "metadata": {
      "tags": []
     },
     "output_type": "display_data"
    }
   ],
   "source": [
    "model.eval()\n",
    "with torch.no_grad():\n",
    "    for x_test, y_test in test_loader:\n",
    "        prediction = model(x_test)\n",
    "        correct = torch.argmax(prediction, 1) == y_test\n",
    "        accuracy = correct.float().mean()\n",
    "        print('accuracy: ', accuracy.item())\n",
    "\n",
    "        r = random.randint(0, len(test_loader)-1)\n",
    "        x_test_r = x_test[r].view(1, 3, 32, 32)\n",
    "        print(x_test_r.shape)\n",
    "        y_test_r = y_test[r]\n",
    "        prediction_r = torch.argmax(model(x_test_r), 1)\n",
    "\n",
    "        classes = cifar10_test.classes\n",
    "\n",
    "        print('Label: ', y_test_r.item(), classes[y_test_r.item()])\n",
    "        print('Prediction: ', prediction_r.item(), classes[prediction_r.item()])\n",
    "\n",
    "        plt.imshow(cifar10_test.data[r])\n",
    "        plt.show()"
   ]
  }
 ],
 "metadata": {
  "accelerator": "GPU",
  "colab": {
   "collapsed_sections": [],
   "machine_shape": "hm",
   "name": "cifar10_cnn.ipynb",
   "provenance": []
  },
  "kernelspec": {
   "display_name": "Python 3",
   "language": "python",
   "name": "python3"
  },
  "language_info": {
   "codemirror_mode": {
    "name": "ipython",
    "version": 3
   },
   "file_extension": ".py",
   "mimetype": "text/x-python",
   "name": "python",
   "nbconvert_exporter": "python",
   "pygments_lexer": "ipython3",
   "version": "3.6.9"
  }
 },
 "nbformat": 4,
 "nbformat_minor": 1
}
