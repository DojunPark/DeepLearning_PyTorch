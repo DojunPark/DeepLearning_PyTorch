{
 "cells": [
  {
   "cell_type": "markdown",
   "metadata": {},
   "source": [
    "# XOR neural network"
   ]
  },
  {
   "cell_type": "markdown",
   "metadata": {},
   "source": [
    "## 1) 필요한 모듈을 불러옵니다"
   ]
  },
  {
   "cell_type": "code",
   "execution_count": 1,
   "metadata": {},
   "outputs": [],
   "source": [
    "import torch\n",
    "import torch.nn as nn\n",
    "import torch.nn.functional as F\n",
    "import torch.optim as optim"
   ]
  },
  {
   "cell_type": "markdown",
   "metadata": {},
   "source": [
    "## 2) manual seed를 고정시킵니다"
   ]
  },
  {
   "cell_type": "code",
   "execution_count": 2,
   "metadata": {},
   "outputs": [
    {
     "data": {
      "text/plain": [
       "<torch._C.Generator at 0x2d8a6c75070>"
      ]
     },
     "execution_count": 2,
     "metadata": {},
     "output_type": "execute_result"
    }
   ],
   "source": [
    "torch.manual_seed(1)"
   ]
  },
  {
   "cell_type": "markdown",
   "metadata": {},
   "source": [
    "## 3) 데이터를 불러옵니다"
   ]
  },
  {
   "cell_type": "code",
   "execution_count": 3,
   "metadata": {},
   "outputs": [],
   "source": [
    "x_train = torch.FloatTensor([[0, 0], [1, 0], [0, 1], [1, 1]])\n",
    "y_train = torch.FloatTensor([[0], [1], [1], [0]])"
   ]
  },
  {
   "cell_type": "markdown",
   "metadata": {},
   "source": [
    "## 4) training model을 생성합니다"
   ]
  },
  {
   "cell_type": "code",
   "execution_count": 5,
   "metadata": {},
   "outputs": [],
   "source": [
    "linear1 = nn.Linear(2, 10, bias=True)\n",
    "linear2 = nn.Linear(10, 10, bias=True)\n",
    "linear3 = nn.Linear(10, 10, bias=True)\n",
    "linear4 = nn.Linear(10, 10, bias=True)\n",
    "linear5 = nn.Linear(10, 1, bias=True)\n",
    "sigmoid = nn.Sigmoid()\n",
    "\n",
    "model = nn.Sequential(linear1, sigmoid,\n",
    "                     linear2, sigmoid,\n",
    "                     linear3, sigmoid,\n",
    "                     linear4, sigmoid,\n",
    "                     linear5, sigmoid)"
   ]
  },
  {
   "cell_type": "markdown",
   "metadata": {},
   "source": [
    "## 5) loss_function과 optimizer를 정의합니다"
   ]
  },
  {
   "cell_type": "code",
   "execution_count": 16,
   "metadata": {},
   "outputs": [],
   "source": [
    "loss_function = nn.BCELoss()\n",
    "optimizer = optim.SGD(model.parameters(), lr=1e-0)"
   ]
  },
  {
   "cell_type": "markdown",
   "metadata": {},
   "source": [
    "## 6) 반복학습을 시작합니다"
   ]
  },
  {
   "cell_type": "code",
   "execution_count": 17,
   "metadata": {},
   "outputs": [
    {
     "name": "stdout",
     "output_type": "stream",
     "text": [
      "epoch:  1000/10000 >>> loss:0.6899, accuracy:0.5000\n",
      "epoch:  2000/10000 >>> loss:0.0012, accuracy:1.0000\n",
      "epoch:  3000/10000 >>> loss:0.0004, accuracy:1.0000\n",
      "epoch:  4000/10000 >>> loss:0.0002, accuracy:1.0000\n",
      "epoch:  5000/10000 >>> loss:0.0002, accuracy:1.0000\n",
      "epoch:  6000/10000 >>> loss:0.0001, accuracy:1.0000\n",
      "epoch:  7000/10000 >>> loss:0.0001, accuracy:1.0000\n",
      "epoch:  8000/10000 >>> loss:0.0001, accuracy:1.0000\n",
      "epoch:  9000/10000 >>> loss:0.0001, accuracy:1.0000\n",
      "epoch: 10000/10000 >>> loss:0.0001, accuracy:1.0000\n"
     ]
    }
   ],
   "source": [
    "epochs = 10000\n",
    "for epoch in range(1, epochs+1):\n",
    "    prediction = model(x_train)\n",
    "    \n",
    "    loss = loss_function(prediction, y_train)\n",
    "    \n",
    "    optimizer.zero_grad()\n",
    "    loss.backward()\n",
    "    optimizer.step()\n",
    "    \n",
    "    if epoch % 1000 == 0:\n",
    "        result = prediction >= torch.FloatTensor([0.5])\n",
    "        correct = result.float() == y_train\n",
    "        accuracy = correct.float().mean()\n",
    "        \n",
    "        print('epoch: {:5d}/{} >>> loss:{:.4f}, accuracy:{:.4f}'.format(epoch, epochs, loss, accuracy))"
   ]
  },
  {
   "cell_type": "markdown",
   "metadata": {},
   "source": [
    "## 7) 학습 결과를 확인합니다"
   ]
  },
  {
   "cell_type": "code",
   "execution_count": 21,
   "metadata": {},
   "outputs": [
    {
     "name": "stdout",
     "output_type": "stream",
     "text": [
      "result:tensor([[0.],\n",
      "        [1.],\n",
      "        [1.],\n",
      "        [0.]])\n",
      "label:tensor([[0.],\n",
      "        [1.],\n",
      "        [1.],\n",
      "        [0.]])\n"
     ]
    }
   ],
   "source": [
    "prediction = model(x_train)\n",
    "result = prediction >= torch.FloatTensor([0.5])\n",
    "print('result:', end='')\n",
    "print(result.float())\n",
    "print('label:', end='')\n",
    "print(y_train)"
   ]
  },
  {
   "cell_type": "markdown",
   "metadata": {},
   "source": [
    "# Full code"
   ]
  },
  {
   "cell_type": "code",
   "execution_count": 47,
   "metadata": {},
   "outputs": [
    {
     "name": "stdout",
     "output_type": "stream",
     "text": [
      "epoch:  1000 >>> loss:0.0025, accuracy:1.0000\n",
      "epoch:  2000 >>> loss:0.0005, accuracy:1.0000\n",
      "epoch:  3000 >>> loss:0.0003, accuracy:1.0000\n",
      "epoch:  4000 >>> loss:0.0002, accuracy:1.0000\n",
      "epoch:  5000 >>> loss:0.0001, accuracy:1.0000\n",
      "epoch:  6000 >>> loss:0.0001, accuracy:1.0000\n",
      "epoch:  7000 >>> loss:0.0001, accuracy:1.0000\n",
      "epoch:  8000 >>> loss:0.0001, accuracy:1.0000\n",
      "epoch:  9000 >>> loss:0.0001, accuracy:1.0000\n",
      "epoch: 10000 >>> loss:0.0001, accuracy:1.0000\n"
     ]
    }
   ],
   "source": [
    "import torch\n",
    "import torch.nn as nn\n",
    "import torch.nn.functional as F\n",
    "import torch.optim as optim\n",
    "\n",
    "torch.manual_seed(1)\n",
    "\n",
    "x_train = torch.FloatTensor([[0,0], [0,1], [1,0], [0,0]])\n",
    "y_train = torch.FloatTensor([[0], [1], [1], [0]])\n",
    "\n",
    "linear1 = nn.Linear(2, 10)\n",
    "linear2 = nn.Linear(10, 10)\n",
    "linear3 = nn.Linear(10, 10)\n",
    "linear4 = nn.Linear(10, 1)\n",
    "sigmoid = nn.Sigmoid()\n",
    "\n",
    "model = nn.Sequential(linear1, sigmoid,\n",
    "                     linear2, sigmoid,\n",
    "                     linear3, sigmoid,\n",
    "                     linear4, sigmoid)\n",
    "loss_function = nn.BCELoss()\n",
    "optimizer = optim.SGD(model.parameters(), lr=1e-0)\n",
    "\n",
    "epochs = 10000\n",
    "for epoch in range(1, epochs+1):\n",
    "    prediction = model(x_train)\n",
    "    \n",
    "    loss = loss_function(prediction, y_train)\n",
    "    \n",
    "    optimizer.zero_grad()\n",
    "    loss.backward()\n",
    "    optimizer.step()\n",
    "    \n",
    "    if epoch % 1000 == 0:\n",
    "        result = prediction >= torch.FloatTensor([0.5])\n",
    "        correct = result.float() == y_train\n",
    "        accuracy = correct.float().mean()\n",
    "        \n",
    "        print('epoch: {:5d} >>> loss:{:.4f}, accuracy:{:.4f}'.format(epoch, loss.item(), accuracy.item()))"
   ]
  }
 ],
 "metadata": {
  "kernelspec": {
   "display_name": "Python 3",
   "language": "python",
   "name": "python3"
  },
  "language_info": {
   "codemirror_mode": {
    "name": "ipython",
    "version": 3
   },
   "file_extension": ".py",
   "mimetype": "text/x-python",
   "name": "python",
   "nbconvert_exporter": "python",
   "pygments_lexer": "ipython3",
   "version": "3.6.9"
  }
 },
 "nbformat": 4,
 "nbformat_minor": 2
}
