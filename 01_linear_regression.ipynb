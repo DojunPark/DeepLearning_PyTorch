{
 "cells": [
  {
   "cell_type": "markdown",
   "metadata": {},
   "source": [
    "# Linear regression"
   ]
  },
  {
   "cell_type": "markdown",
   "metadata": {},
   "source": [
    "## 1) 먼저 필요한 모듈을 import 합니다"
   ]
  },
  {
   "cell_type": "code",
   "execution_count": 1,
   "metadata": {},
   "outputs": [],
   "source": [
    "import torch\n",
    "import torch.nn as nn\n",
    "import torch.nn.functional as F\n",
    "import torch.optim as optim"
   ]
  },
  {
   "cell_type": "markdown",
   "metadata": {},
   "source": [
    "## 2) 다음으로 학습데이터셋을 선언합니다"
   ]
  },
  {
   "cell_type": "code",
   "execution_count": 15,
   "metadata": {},
   "outputs": [],
   "source": [
    "x_train = torch.FloatTensor([[1], [2], [3]])\n",
    "y_train = torch.FloatTensor([[15], [25], [35]])"
   ]
  },
  {
   "cell_type": "markdown",
   "metadata": {},
   "source": [
    "## 3) 클래스로 모델을 선언합니다"
   ]
  },
  {
   "cell_type": "code",
   "execution_count": 16,
   "metadata": {},
   "outputs": [],
   "source": [
    "class LinearModel(nn.Module):\n",
    "    def __init__(self):\n",
    "        super().__init__()\n",
    "        self.linear = nn.Linear(1, 1)\n",
    "        \n",
    "    def forward(self, x):\n",
    "        return self.linear(x)"
   ]
  },
  {
   "cell_type": "markdown",
   "metadata": {},
   "source": [
    "## 4) 모델 인스턴스와 옵티마이저를 정의합니다"
   ]
  },
  {
   "cell_type": "code",
   "execution_count": 17,
   "metadata": {},
   "outputs": [],
   "source": [
    "model = LinearModel()\n",
    "optimizer = optim.SGD(model.parameters(), lr=1e-2)"
   ]
  },
  {
   "cell_type": "markdown",
   "metadata": {},
   "source": [
    "## 5) 이제 for문을 돌면서 모델 학습을 시작합니다"
   ]
  },
  {
   "cell_type": "code",
   "execution_count": 18,
   "metadata": {},
   "outputs": [
    {
     "name": "stdout",
     "output_type": "stream",
     "text": [
      " 100번째 출력 >>> weight: 10.2020, bias: 4.5407, loss: 0.0304\n",
      " 200번째 출력 >>> weight: 10.1588, bias: 4.6389, loss: 0.0188\n",
      " 300번째 출력 >>> weight: 10.1249, bias: 4.7162, loss: 0.0116\n",
      " 400번째 출력 >>> weight: 10.0981, bias: 4.7769, loss: 0.0072\n",
      " 500번째 출력 >>> weight: 10.0772, bias: 4.8246, loss: 0.0044\n",
      " 600번째 출력 >>> weight: 10.0606, bias: 4.8621, loss: 0.0027\n",
      " 700번째 출력 >>> weight: 10.0477, bias: 4.8916, loss: 0.0017\n",
      " 800번째 출력 >>> weight: 10.0375, bias: 4.9148, loss: 0.0010\n",
      " 900번째 출력 >>> weight: 10.0295, bias: 4.9330, loss: 0.0006\n",
      "1000번째 출력 >>> weight: 10.0232, bias: 4.9474, loss: 0.0004\n"
     ]
    }
   ],
   "source": [
    "epochs = 1000\n",
    "\n",
    "for epoch in range(1, epochs+1):\n",
    "    prediction = model(x_train)\n",
    "    \n",
    "    loss = F.mse_loss(prediction, y_train)\n",
    "    \n",
    "    optimizer.zero_grad()\n",
    "    loss.backward()\n",
    "    optimizer.step()\n",
    "    \n",
    "    if epoch % 100 == 0:\n",
    "        params = list(model.parameters())\n",
    "        w = params[0].item()\n",
    "        b = params[1].item()\n",
    "        print('{:4d}번째 출력 >>> weight: {:.4f}, bias: {:.4f}, loss: {:.4f}'.format(epoch, w, b, loss.item()))"
   ]
  },
  {
   "cell_type": "markdown",
   "metadata": {},
   "source": [
    "# Full code"
   ]
  },
  {
   "cell_type": "code",
   "execution_count": 24,
   "metadata": {},
   "outputs": [
    {
     "name": "stdout",
     "output_type": "stream",
     "text": [
      " 2000번째 출력 >>> weight: 2.1294, bias: 1.9804, loss: 1.3033\n",
      " 4000번째 출력 >>> weight: 2.0732, bias: 3.2932, loss: 0.4164\n",
      " 6000번째 출력 >>> weight: 2.0414, bias: 4.0352, loss: 0.1331\n",
      " 8000번째 출력 >>> weight: 2.0234, bias: 4.4546, loss: 0.0425\n",
      "10000번째 출력 >>> weight: 2.0132, bias: 4.6917, loss: 0.0136\n",
      "12000번째 출력 >>> weight: 2.0075, bias: 4.8257, loss: 0.0043\n",
      "14000번째 출력 >>> weight: 2.0042, bias: 4.9015, loss: 0.0014\n",
      "16000번째 출력 >>> weight: 2.0024, bias: 4.9443, loss: 0.0004\n",
      "18000번째 출력 >>> weight: 2.0013, bias: 4.9685, loss: 0.0001\n",
      "20000번째 출력 >>> weight: 2.0008, bias: 4.9822, loss: 0.0000\n"
     ]
    }
   ],
   "source": [
    "import torch\n",
    "import torch.nn as nn\n",
    "import torch.nn.functional as F\n",
    "import torch.optim\n",
    "\n",
    "x_train = torch.FloatTensor([[10], [20], [30]])\n",
    "y_train = torch.FloatTensor([[25], [45], [65]])\n",
    "\n",
    "class LinearModel(nn.Module):\n",
    "    def __init__(self):\n",
    "        super().__init__()\n",
    "        self.linear = nn.Linear(1, 1)\n",
    "    \n",
    "    def forward(self, x):\n",
    "        return self.linear(x)\n",
    "    \n",
    "model = LinearModel()\n",
    "optimizer = optim.SGD(model.parameters(), lr=1e-3)\n",
    "\n",
    "epochs = 20000\n",
    "for epoch in range(1, epochs+1):\n",
    "    prediction = model(x_train)\n",
    "    \n",
    "    loss = F.mse_loss(prediction, y_train)\n",
    "    \n",
    "    optimizer.zero_grad()\n",
    "    loss.backward()\n",
    "    optimizer.step()\n",
    "    \n",
    "    if epoch % 2000 == 0:\n",
    "        params = list(model.parameters())\n",
    "        w = params[0].item()\n",
    "        b = params[1].item()\n",
    "        \n",
    "        print('{:5d}번째 출력 >>> weight: {:.4f}, bias: {:.4f}, loss: {:.4f}'.format(epoch, w, b, loss.item()))"
   ]
  }
 ],
 "metadata": {
  "kernelspec": {
   "display_name": "Python 3",
   "language": "python",
   "name": "python3"
  },
  "language_info": {
   "codemirror_mode": {
    "name": "ipython",
    "version": 3
   },
   "file_extension": ".py",
   "mimetype": "text/x-python",
   "name": "python",
   "nbconvert_exporter": "python",
   "pygments_lexer": "ipython3",
   "version": "3.6.9"
  }
 },
 "nbformat": 4,
 "nbformat_minor": 2
}
